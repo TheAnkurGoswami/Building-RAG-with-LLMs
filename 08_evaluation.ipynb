{
 "cells": [
  {
   "cell_type": "markdown",
   "id": "b35536f6-166c-4b89-8136-96417db5be30",
   "metadata": {
    "id": "b35536f6-166c-4b89-8136-96417db5be30"
   },
   "source": [
    "<center><a href=\"https://www.nvidia.com/en-us/training/\"><img src=\"https://dli-lms.s3.amazonaws.com/assets/general/DLI_Header_White.png\" width=\"400\" height=\"186\" /></a></center>"
   ]
  },
  {
   "cell_type": "markdown",
   "id": "77c8ac2e-eb68-4b84-85fe-3a6661eba976",
   "metadata": {
    "id": "77c8ac2e-eb68-4b84-85fe-3a6661eba976"
   },
   "source": [
    "<br>\n",
    "\n",
    "# <font color=\"#76b900\">**Notebook 8 [Assessment]:** RAG Evaluation</font>\n",
    "\n",
    "<br>\n",
    "\n",
    "Welcome to the last notebook of the course! In the previous notebook, you integrated a vector store solution into a RAG pipeline! In this notebook, you will take that same pipeline and evaluate it using numerical RAG evaluation techniques incorporating LLM-as-a-Judge metrics!\n",
    "\n",
    "<br>\n",
    "\n",
    "### **Learning Objectives:**\n",
    "\n",
    "- Learn how to integrate the techniques from prior notebooks to numerically approximate the goodness of your RAG pipeline.\n",
    "\n",
    "- **Final Exercice**: ***By working through this notebook in the Course Environment,* you will be able to submit the coding component of the course!**\n",
    "\n",
    "<br>\n",
    "\n",
    "### **Questions To Think About:**\n",
    "\n",
    "- As you go along, remember what our metrics actually represent. Should our pipeline pass these objectives? Is our judge LLM sufficient for evaluating the pipeline? Does a particular metric even matter for our use case?\n",
    "- If we left the vectorstore-as-a-memory component in our chain, do you think it would still pass the evaluation? Additionally, is the evaluation useful for assessing vectorstore-as-a-memory performance? \n",
    "\n",
    "<br>\n",
    "\n",
    "### **Notebook Source:**\n",
    "\n",
    "- This notebook is part of a larger [**NVIDIA Deep Learning Institute**](https://www.nvidia.com/en-us/training/) course titled [**Building RAG Agents with LLMs**](https://www.nvidia.com/en-sg/training/instructor-led-workshops/building-rag-agents-with-llms/). If sharing this material, please give credit and link back to the original course.\n",
    "\n",
    "<br>\n",
    "\n",
    "### **Environment Setup:**"
   ]
  },
  {
   "cell_type": "code",
   "execution_count": 1,
   "id": "w_A3rZOrIeQD",
   "metadata": {
    "id": "w_A3rZOrIeQD"
   },
   "outputs": [],
   "source": [
    "# %pip install -q langchain langchain-nvidia-ai-endpoints gradio rich\n",
    "# %pip install -q arxiv pymupdf faiss-cpu ragas\n",
    "\n",
    "## If you encounter a typing-extensions issue, restart your runtime and try again\n",
    "# from langchain_nvidia_ai_endpoints import ChatNVIDIA\n",
    "# ChatNVIDIA.get_available_models()\n",
    "\n",
    "from functools import partial\n",
    "from rich.console import Console\n",
    "from rich.style import Style\n",
    "from rich.theme import Theme\n",
    "\n",
    "console = Console()\n",
    "base_style = Style(color=\"#76B900\", bold=True)\n",
    "norm_style = Style(bold=True)\n",
    "pprint = partial(console.print, style=base_style)\n",
    "pprint2 = partial(console.print, style=norm_style)\n",
    "\n",
    "from langchain_nvidia_ai_endpoints import ChatNVIDIA, NVIDIAEmbeddings\n",
    "\n",
    "# NVIDIAEmbeddings.get_available_models()\n",
    "embedder = NVIDIAEmbeddings(model=\"nvidia/nv-embed-v1\", truncate=\"END\")\n",
    "\n",
    "# ChatNVIDIA.get_available_models(base_url=\"http://llm_client:9000/v1\")\n",
    "instruct_llm = ChatNVIDIA(model=\"meta/llama-3.1-8b-instruct\")"
   ]
  },
  {
   "cell_type": "markdown",
   "id": "zEgV11oZmJGg",
   "metadata": {
    "id": "zEgV11oZmJGg"
   },
   "source": [
    "----\n",
    "\n",
    "<br>\n",
    "\n",
    "## **Part 1:** Pre-Release Evaluation\n",
    "\n",
    "In our previous notebook, we successfully combined several concepts to create a document chatbot with the aim of responsive and informative interactions. However, the diversity of user interactions necessitates comprehensive testing to truly understand the chatbot's performance. Thorough testing in varied scenarios is crucial to ensure that the system is not only robust and versatile but also aligns with user and provider expectations.\n",
    "\n",
    "After defining your chatbot's roles and implementing the necessary features, evaluating it becomes a multi-stage process:\n",
    "\n",
    "- **Typical Use Inspection:** Start by testing scenarios most relevant to your use case. See if your chatbot can reliably navigate discussions with limited human intervention.\n",
    "\n",
    "    - Additionally, identify limitations or compartments that should be redirected to a human for inspection/supervision (i.e., human swap-in to confirm transactions or perform sensitive navigation) and implement those options.\n",
    "\n",
    "- **Edge Case Inspection:** Explore the boundaries of typical use, identifying how the chatbot handles less common but plausible scenarios.\n",
    "\n",
    "    - Before any public release, assess critical boundary conditions that could pose liability risks, such as the potential generation of inappropriate content.\n",
    "\n",
    "    - Implement well-tested guardrails on all outputs (and possibly inputs) to limit undesired interactions and redirect users into predictable conversation flows.\n",
    "\n",
    "- **Progressive Rollout:** Rolling out your model to a limited audience (first internal, then [A/B](https://en.wikipedia.org/wiki/A/B_testing)) and implement analytics features like usage analytics dashboards and feedback avenues (flag/like/dislike/etc).\n",
    "\n",
    "Of these three steps, the first two can be done by a small team or an individual and should be iterated on as part of the development process. Unfortunately, this needs to be done frequently and can be prone to human error. **Luckily for us, LLMs can be used to help out with LLM-as-a-Judge formulations!**\n",
    "\n",
    "*(Yeah, this probably isn't surprising by now. LLMs being strong is why this course is here...).*\n",
    "\n",
    "----\n",
    "\n",
    "<br>\n",
    "\n",
    "## **Part 2:** LLM-as-a-Judge Formulation\n",
    "\n",
    "In the realm of conversational AI, using LLMs as evaluators or 'judges' has emerged as a useful approach for configurable automatic testing of natural language task performance:\n",
    "\n",
    "- An LLM can simulate a range of interaction scenarios and generate synthetic data, allowing an evaluation developer to generate targeted inputs to eliciting a range of behaviors from your chatbot.\n",
    "\n",
    "- The chatbot's correspondence/retrieval on the synthetic data can be evaluated or parsed by an LLM and a consistent output format such as \"Pass\"/\"Fail\", similarity, or extraction can be enforced.\n",
    "\n",
    "- Many such results can be aggregated and a metric can be derived which explains something like \"% of passing evaluations\", \"average number of relevant details from the sources\", \"average cosine similarity\", etc.\n",
    "\n",
    "This idea of using LLMs to test out and quantify chatbot quality, known as [**\"LLM-as-a-Judge,\"**](https://arxiv.org/abs/2306.05685) allows for easy test specifications that align closely with human judgment and can be fine-tuned and replicated at scale.\n",
    "\n",
    "**There are several popular frameworks for off-the-shelf judge formulations including:**\n",
    "- [**RAGAs (short for RAG Assessment)**](https://docs.ragas.io/en/stable/), which offers a suite of great starting points for your own evaluation efforts.\n",
    "- [**LangChain Evaluators**](https://python.langchain.com/v0.1/docs/guides/productionization/evaluation/), which are similar first-party options with many implicitly-constructible agents.\n",
    "\n",
    "Instead of using the chains as-is, we will instead expand on the ideas and evaluate our system with a more custom solution."
   ]
  },
  {
   "cell_type": "markdown",
   "id": "fDDNaBA9N3XM",
   "metadata": {
    "id": "fDDNaBA9N3XM"
   },
   "source": [
    "----\n",
    "\n",
    "<br>\n",
    "\n",
    "## **Part 3: [Assessment Prep]** Pairwise Evaluator\n",
    "\n",
    "The following exercise will flesh out a custom implementation of a simplified [LangChain Pairwise String Evaluator](https://python.langchain.com/v0.1/docs/guides/productionization/evaluation/comparison/pairwise_string/). \n",
    "\n",
    "**To prepare for our RAG chain evaluation, we will need to:**\n",
    "\n",
    "- Pull in our document index (the one we saved in the previous notebook).\n",
    "- Recreate our RAG pipeline of choice.\n",
    "\n",
    "**We will specifically be implementing a judge formulation with the following steps:**\n",
    "\n",
    "- Sample the RAG agent document pool to find two document chunks.\n",
    "- Use those two document chunks to generate a synthetic \"baseline\" question-answer pair.\n",
    "- Use the RAG agent to generate its own answer.\n",
    "- Use a judge LLM to compare the two responses while grounding the synthetic generation as \"ground-truth correct.\"\n",
    "\n",
    "**The chain should be a simple but powerful process that tests for the following objective:**\n",
    "\n",
    "> ***Does my RAG chain outperform a narrow chatbot with limited document access.***\n",
    "\n",
    "\n",
    "\n",
    "\n",
    "\n",
    "**This will be the system used for the final evaluation!** To see how this system is integrated into the autograder, please check out the implementation in [`frontend/server_app.py`](frontend/server_app.py)."
   ]
  },
  {
   "cell_type": "markdown",
   "id": "1bh8jaOqak0f",
   "metadata": {
    "id": "1bh8jaOqak0f"
   },
   "source": [
    "<br>\n",
    "\n",
    "### **Task 1:** Pull In Your Document Retrieval Index\n",
    "\n",
    "For this exercise, you will pull in the `docstore_index` file you created as part of your earlier notebook. The following cell should be able to load in the store as-is."
   ]
  },
  {
   "cell_type": "code",
   "execution_count": 2,
   "id": "tlE7a2lseLOy",
   "metadata": {
    "id": "tlE7a2lseLOy",
    "scrolled": true
   },
   "outputs": [
    {
     "name": "stdout",
     "output_type": "stream",
     "text": [
      "docstore_index/\n",
      "docstore_index/index.pkl\n",
      "docstore_index/index.faiss\n"
     ]
    },
    {
     "data": {
      "text/html": [
       "<pre style=\"white-space:pre;overflow-x:auto;line-height:normal;font-family:Menlo,'DejaVu Sans Mono',consolas,'Courier New',monospace\"><span style=\"color: #76b900; text-decoration-color: #76b900; font-weight: bold\">Constructed aggregate docstore with </span><span style=\"color: #008080; text-decoration-color: #008080; font-weight: bold\">238</span><span style=\"color: #76b900; text-decoration-color: #76b900; font-weight: bold\"> chunks</span>\n",
       "</pre>\n"
      ],
      "text/plain": [
       "\u001b[1;38;2;118;185;0mConstructed aggregate docstore with \u001b[0m\u001b[1;36m238\u001b[0m\u001b[1;38;2;118;185;0m chunks\u001b[0m\n"
      ]
     },
     "metadata": {},
     "output_type": "display_data"
    },
    {
     "data": {
      "text/html": [
       "<pre style=\"white-space:pre;overflow-x:auto;line-height:normal;font-family:Menlo,'DejaVu Sans Mono',consolas,'Courier New',monospace\"><span style=\"color: #76b900; text-decoration-color: #76b900; font-weight: bold\">Sample Chunk:</span>\n",
       "</pre>\n"
      ],
      "text/plain": [
       "\u001b[1;38;2;118;185;0mSample Chunk:\u001b[0m\n"
      ]
     },
     "metadata": {},
     "output_type": "display_data"
    },
    {
     "name": "stdout",
     "output_type": "stream",
     "text": [
      "Paper: Retrieval-Augmented Generation for Knowledge-Intensive NLP Tasks\n",
      "\n",
      "Summary: Large pre-trained language models have been shown to store factual knowledge\n",
      "in their parameters, and achieve state-of-the-art results when fine-tuned on\n",
      "downstream NLP tasks. However, their ability to access and precisely manipulate\n",
      "knowledge is still limited, and hence on knowledge-intensive tasks, their\n",
      "performance lags behind task-specific architectures. Additionally, providing\n",
      "provenance for their decisions and updating their world knowledge remain open\n",
      "research problems. Pre-trained models with a differentiable access mechanism to\n",
      "explicit non-parametric memory can overcome this issue, but have so far been\n",
      "only investigated for extractive downstream tasks. We explore a general-purpose\n",
      "fine-tuning recipe for retrieval-augmented generation (RAG) -- models which\n",
      "combine pre-trained parametric and non-parametric memory for language\n",
      "generation. We introduce RAG models where the parametric memory is a\n",
      "pre-trained seq2seq model and the non-parametric memory is a dense vector index\n",
      "of Wikipedia, accessed with a pre-trained neural retriever. We compare two RAG\n",
      "formulations, one which conditions on the same retrieved passages across the\n",
      "whole generated sequence, the other can use different passages per token. We\n",
      "fine-tune and evaluate our models on a wide range of knowledge-intensive NLP\n",
      "tasks and set the state-of-the-art on three open domain QA tasks, outperforming\n",
      "parametric seq2seq models and task-specific retrieve-and-extract architectures.\n",
      "For language generation tasks, we find that RAG models generate more specific,\n",
      "diverse and factual language than a state-of-the-art parametric-only seq2seq\n",
      "baseline.\n",
      "\n",
      "Page Body: .S.\\nRAG-T It\\u2019s the only U.S. state named for a U.S. president\\nRAG-S It\\u2019s the state where you\\u2019ll \\ufb01nd Mount Rainier National Park\\nThe Divine\\nComedy\\nBART\\n*This epic poem by Dante is divided into 3 parts: the Inferno, the Purgatorio & the Purgatorio\\nRAG-T Dante\\u2019s \\\"Inferno\\\" is the \\ufb01rst part of this epic poem\\nRAG-S This 14th century work is divided into 3 sections: \\\"Inferno\\\", \\\"Purgatorio\\\" & \\\"Paradiso\\\"\\nFor 2-way classi\\ufb01cation, we compare against Thorne and Vlachos [57], who train RoBERTa [35]\\nto classify the claim as true or false given the gold evidence sentence. RAG achieves an accuracy\\nwithin 2.7% of this model, despite being supplied with only the claim and retrieving its own evidence.\\nWe also analyze whether documents retrieved by RAG correspond to documents annotated as gold\\nevidence in FEVER. We calculate the overlap in article titles between the top k documents retrieved\\nby RAG and gold evidence annotations\n"
     ]
    }
   ],
   "source": [
    "## Make sure you have docstore_index.tgz in your working directory\n",
    "from langchain_nvidia_ai_endpoints import NVIDIAEmbeddings\n",
    "from langchain_community.vectorstores import FAISS\n",
    "\n",
    "# embedder = NVIDIAEmbeddings(model=\"nvidia/embed-qa-4\", truncate=\"END\")\n",
    "\n",
    "!tar xzvf docstore_index.tgz\n",
    "docstore = FAISS.load_local(\"docstore_index\", embedder, allow_dangerous_deserialization=True)\n",
    "docs = list(docstore.docstore._dict.values())\n",
    "\n",
    "def format_chunk(doc):\n",
    "    return (\n",
    "        f\"Paper: {doc.metadata.get('Title', 'unknown')}\"\n",
    "        f\"\\n\\nSummary: {doc.metadata.get('Summary', 'unknown')}\"\n",
    "        f\"\\n\\nPage Body: {doc.page_content}\"\n",
    "    )\n",
    "\n",
    "## This printout just confirms that your store has been retrieved\n",
    "pprint(f\"Constructed aggregate docstore with {len(docstore.docstore._dict)} chunks\")\n",
    "pprint(f\"Sample Chunk:\")\n",
    "print(format_chunk(docs[len(docs)//2]))"
   ]
  },
  {
   "cell_type": "markdown",
   "id": "dib0F-t2N4LJ",
   "metadata": {
    "id": "dib0F-t2N4LJ"
   },
   "source": [
    "<br>\n",
    "\n",
    "### **Task 2: [Exercise]** Pull In Your RAG Chain\n",
    "\n",
    "Now that we have our index, we can recreate the RAG agent from the previous notebook! \n",
    "\n",
    "**Key Modifications:**\n",
    "- To keep things simple, feel free to disregard the vectorstore-as-a-memory component. Incorporating it will require some more overhead and will make the exercise a bit more complicated."
   ]
  },
  {
   "cell_type": "code",
   "execution_count": 3,
   "id": "XBi6Y8b8aXd2",
   "metadata": {
    "id": "XBi6Y8b8aXd2"
   },
   "outputs": [
    {
     "name": "stdout",
     "output_type": "stream",
     "text": [
      "You want to know something interesting? Did you know that the largest snowflake ever recorded was 15 inches wide and 8 inches thick? It fell in Montana in 1887! Isn't that mind-blowing?\n",
      "\n",
      "( Source: Document Retrieval from various sources )"
     ]
    }
   ],
   "source": [
    "from langchain_core.output_parsers import StrOutputParser\n",
    "from langchain_core.prompts import ChatPromptTemplate\n",
    "from langchain_core.runnables import RunnableLambda, RunnableBranch\n",
    "from langchain_core.runnables.passthrough import RunnableAssign\n",
    "from langchain.document_transformers import LongContextReorder\n",
    "\n",
    "from langchain_nvidia_ai_endpoints import ChatNVIDIA, NVIDIAEmbeddings\n",
    "\n",
    "from functools import partial\n",
    "from operator import itemgetter\n",
    "\n",
    "import gradio as gr\n",
    "\n",
    "#####################################################################\n",
    "\n",
    "# NVIDIAEmbeddings.get_available_models()\n",
    "embedder = NVIDIAEmbeddings(model=\"nvidia/nv-embed-v1\", truncate=\"END\")\n",
    "\n",
    "# ChatNVIDIA.get_available_models()\n",
    "instruct_llm = ChatNVIDIA(model=\"meta/llama-3.1-8b-instruct\")\n",
    "llm = instruct_llm | StrOutputParser()\n",
    "\n",
    "#####################################################################\n",
    "\n",
    "def docs2str(docs, title=\"Document\"):\n",
    "    \"\"\"Useful utility for making chunks into context string. Optional, but useful\"\"\"\n",
    "    out_str = \"\"\n",
    "    for doc in docs:\n",
    "        doc_name = getattr(doc, 'metadata', {}).get('Title', title)\n",
    "        if doc_name: out_str += f\"[Quote from {doc_name}] \"\n",
    "        out_str += getattr(doc, 'page_content', str(doc)) + \"\\n\"\n",
    "    return out_str\n",
    "\n",
    "chat_prompt = ChatPromptTemplate.from_template(\n",
    "    \"You are a document chatbot. Help the user as they ask questions about documents.\"\n",
    "    \" User messaged just asked you a question: {input}\\n\\n\"\n",
    "    \" The following information may be useful for your response: \"\n",
    "    \" Document Retrieval:\\n{context}\\n\\n\"\n",
    "    \" (Answer only from retrieval. Only cite sources that are used. Make your response conversational)\"\n",
    "    \"\\n\\nUser Question: {input}\"\n",
    ")\n",
    "\n",
    "def output_puller(inputs):\n",
    "    \"\"\"\"Output generator. Useful if your chain returns a dictionary with key 'output'\"\"\"\n",
    "    if isinstance(inputs, dict):\n",
    "        inputs = [inputs]\n",
    "    for token in inputs:\n",
    "        if token.get('output'):\n",
    "            yield token.get('output')\n",
    "\n",
    "#####################################################################\n",
    "## TODO: Pull in your desired RAG Chain. Memory not necessary\n",
    "\n",
    "## Chain 1 Specs: \"Hello World\" -> retrieval_chain \n",
    "##   -> {'input': <str>, 'context' : <str>}\n",
    "long_reorder = RunnableLambda(LongContextReorder().transform_documents)  ## GIVEN\n",
    "# context_getter = RunnableLambda(lambda x: x)  ## TODO\n",
    "\n",
    "def RPrint(preface=\"\"):\n",
    "    \"\"\"Simple passthrough \"prints, then returns\" chain\"\"\"\n",
    "    def print_and_return(x, preface):\n",
    "        if preface: print(preface, end=\"\")\n",
    "        pprint(x)\n",
    "        return x\n",
    "    return RunnableLambda(partial(print_and_return, preface=preface))\n",
    "    \n",
    "context_getter = (\n",
    "    itemgetter(\"input\")\n",
    "    # | RPrint()\n",
    "    | docstore.as_retriever() \n",
    "    | long_reorder \n",
    "    | docs2str\n",
    ")\n",
    "retrieval_chain = {'input' : (lambda x: x)} | RunnableAssign({'context' : context_getter})\n",
    "\n",
    "## Chain 2 Specs: retrieval_chain -> generator_chain \n",
    "##   -> {\"output\" : <str>, ...} -> output_puller\n",
    "# generator_chain = RunnableLambda(lambda x: x)  ## TODO\n",
    "generator_chain = chat_prompt | llm\n",
    "generator_chain = {'output' : generator_chain} | RunnableLambda(output_puller)  ## GIVEN\n",
    "\n",
    "## END TODO\n",
    "#####################################################################\n",
    "\n",
    "rag_chain = retrieval_chain | generator_chain\n",
    "\n",
    "# pprint(rag_chain.invoke(\"Tell me something interesting!\"))\n",
    "for token in rag_chain.stream(\"Tell me something interesting!\"):\n",
    "    print(token, end=\"\")"
   ]
  },
  {
   "cell_type": "markdown",
   "id": "2b880971-d3a0-433f-a60b-e8a4edb754c8",
   "metadata": {},
   "source": [
    "<br>\n",
    "\n",
    "### **Step 3:** Generating Synthetic Question-Answer Pairs\n",
    "\n",
    "In this section, we can implement the first few part of our evaluation routine:\n",
    "\n",
    "- **Sample the RAG agent document pool to find two document chunks.**\n",
    "- **Use those two document chunks to generate a synthetic \"baseline\" question-answer pair.**\n",
    "- Use the RAG agent to generate its own answer.\n",
    "- Use a judge LLM to compare the two responses while grounding the synthetic generation as \"ground-truth correct.\"\n",
    "\n",
    "The chain should be a simple but powerful process that tests for the following objective:\n",
    "\n",
    "> Does my RAG chain outperform a narrow chatbot with limited document access?"
   ]
  },
  {
   "cell_type": "code",
   "execution_count": 4,
   "id": "ymzuX-DSNvL6",
   "metadata": {
    "id": "ymzuX-DSNvL6"
   },
   "outputs": [
    {
     "data": {
      "text/html": [
       "<pre style=\"white-space:pre;overflow-x:auto;line-height:normal;font-family:Menlo,'DejaVu Sans Mono',consolas,'Courier New',monospace\"><span style=\"font-weight: bold\">QA Pair </span><span style=\"color: #008080; text-decoration-color: #008080; font-weight: bold\">1</span>\n",
       "</pre>\n"
      ],
      "text/plain": [
       "\u001b[1mQA Pair \u001b[0m\u001b[1;36m1\u001b[0m\n"
      ]
     },
     "metadata": {},
     "output_type": "display_data"
    },
    {
     "data": {
      "text/html": [
       "<pre style=\"white-space:pre;overflow-x:auto;line-height:normal;font-family:Menlo,'DejaVu Sans Mono',consolas,'Courier New',monospace\"><span style=\"font-weight: bold\">Question: What are some of the limitations of large language models that make them unsuitable for certain </span>\n",
       "<span style=\"font-weight: bold\">applications, despite their promise as a gateway to natural-language-based knowledge tasks?</span>\n",
       "</pre>\n"
      ],
      "text/plain": [
       "\u001b[1mQuestion: What are some of the limitations of large language models that make them unsuitable for certain \u001b[0m\n",
       "\u001b[1mapplications, despite their promise as a gateway to natural-language-based knowledge tasks?\u001b[0m\n"
      ]
     },
     "metadata": {},
     "output_type": "display_data"
    },
    {
     "data": {
      "text/html": [
       "<pre style=\"white-space:pre;overflow-x:auto;line-height:normal;font-family:Menlo,'DejaVu Sans Mono',consolas,'Courier New',monospace\"><span style=\"color: #76b900; text-decoration-color: #76b900; font-weight: bold\">Answer: Large language models (LMs) can struggle with understanding certain types of information, such as dynamic </span>\n",
       "<span style=\"color: #76b900; text-decoration-color: #76b900; font-weight: bold\">data (e.g., current exchange rates, COVID numbers, or stock prices), proprietary information sources, and engaging </span>\n",
       "<span style=\"color: #76b900; text-decoration-color: #76b900; font-weight: bold\">in simple mathematical reasoning, due to their lack of access to all relevant knowledge and their ill-suited nature</span>\n",
       "<span style=\"color: #76b900; text-decoration-color: #76b900; font-weight: bold\">for certain types of calculation.</span>\n",
       "</pre>\n"
      ],
      "text/plain": [
       "\u001b[1;38;2;118;185;0mAnswer: Large language models \u001b[0m\u001b[1;38;2;118;185;0m(\u001b[0m\u001b[1;38;2;118;185;0mLMs\u001b[0m\u001b[1;38;2;118;185;0m)\u001b[0m\u001b[1;38;2;118;185;0m can struggle with understanding certain types of information, such as dynamic \u001b[0m\n",
       "\u001b[1;38;2;118;185;0mdata \u001b[0m\u001b[1;38;2;118;185;0m(\u001b[0m\u001b[1;38;2;118;185;0me.g., current exchange rates, COVID numbers, or stock prices\u001b[0m\u001b[1;38;2;118;185;0m)\u001b[0m\u001b[1;38;2;118;185;0m, proprietary information sources, and engaging \u001b[0m\n",
       "\u001b[1;38;2;118;185;0min simple mathematical reasoning, due to their lack of access to all relevant knowledge and their ill-suited nature\u001b[0m\n",
       "\u001b[1;38;2;118;185;0mfor certain types of calculation.\u001b[0m\n"
      ]
     },
     "metadata": {},
     "output_type": "display_data"
    },
    {
     "name": "stdout",
     "output_type": "stream",
     "text": [
      "\n"
     ]
    },
    {
     "data": {
      "text/html": [
       "<pre style=\"white-space:pre;overflow-x:auto;line-height:normal;font-family:Menlo,'DejaVu Sans Mono',consolas,'Courier New',monospace\"><span style=\"font-weight: bold\">QA Pair </span><span style=\"color: #008080; text-decoration-color: #008080; font-weight: bold\">2</span>\n",
       "</pre>\n"
      ],
      "text/plain": [
       "\u001b[1mQA Pair \u001b[0m\u001b[1;36m2\u001b[0m\n"
      ]
     },
     "metadata": {},
     "output_type": "display_data"
    },
    {
     "data": {
      "text/html": [
       "<pre style=\"white-space:pre;overflow-x:auto;line-height:normal;font-family:Menlo,'DejaVu Sans Mono',consolas,'Courier New',monospace\"><span style=\"font-weight: bold\">Question: How do the limitations of large language models, such as the inability to access and precisely manipulate</span>\n",
       "<span style=\"font-weight: bold\">knowledge, impact the performance of AI systems on knowledge-intensive tasks?</span>\n",
       "</pre>\n"
      ],
      "text/plain": [
       "\u001b[1mQuestion: How do the limitations of large language models, such as the inability to access and precisely manipulate\u001b[0m\n",
       "\u001b[1mknowledge, impact the performance of AI systems on knowledge-intensive tasks?\u001b[0m\n"
      ]
     },
     "metadata": {},
     "output_type": "display_data"
    },
    {
     "data": {
      "text/html": [
       "<pre style=\"white-space:pre;overflow-x:auto;line-height:normal;font-family:Menlo,'DejaVu Sans Mono',consolas,'Courier New',monospace\"><span style=\"color: #76b900; text-decoration-color: #76b900; font-weight: bold\">Answer: According to Document2, large pre-trained language models' ability to access and precisely manipulate </span>\n",
       "<span style=\"color: #76b900; text-decoration-color: #76b900; font-weight: bold\">knowledge is still limited, which lag behind task-specific architectures on knowledge-intensive tasks. This </span>\n",
       "<span style=\"color: #76b900; text-decoration-color: #76b900; font-weight: bold\">limitation can be overcome by using pre-trained models with a differentiable access mechanism to explicit </span>\n",
       "<span style=\"color: #76b900; text-decoration-color: #76b900; font-weight: bold\">non-parametric memory, such as retrieval-augmented generation (RAG) models, as explored in Document2.</span>\n",
       "</pre>\n"
      ],
      "text/plain": [
       "\u001b[1;38;2;118;185;0mAnswer: According to Document2, large pre-trained language models' ability to access and precisely manipulate \u001b[0m\n",
       "\u001b[1;38;2;118;185;0mknowledge is still limited, which lag behind task-specific architectures on knowledge-intensive tasks. This \u001b[0m\n",
       "\u001b[1;38;2;118;185;0mlimitation can be overcome by using pre-trained models with a differentiable access mechanism to explicit \u001b[0m\n",
       "\u001b[1;38;2;118;185;0mnon-parametric memory, such as retrieval-augmented generation \u001b[0m\u001b[1;38;2;118;185;0m(\u001b[0m\u001b[1;38;2;118;185;0mRAG\u001b[0m\u001b[1;38;2;118;185;0m)\u001b[0m\u001b[1;38;2;118;185;0m models, as explored in Document2.\u001b[0m\n"
      ]
     },
     "metadata": {},
     "output_type": "display_data"
    },
    {
     "name": "stdout",
     "output_type": "stream",
     "text": [
      "\n"
     ]
    },
    {
     "data": {
      "text/html": [
       "<pre style=\"white-space:pre;overflow-x:auto;line-height:normal;font-family:Menlo,'DejaVu Sans Mono',consolas,'Courier New',monospace\"><span style=\"font-weight: bold\">QA Pair </span><span style=\"color: #008080; text-decoration-color: #008080; font-weight: bold\">3</span>\n",
       "</pre>\n"
      ],
      "text/plain": [
       "\u001b[1mQA Pair \u001b[0m\u001b[1;36m3\u001b[0m\n"
      ]
     },
     "metadata": {},
     "output_type": "display_data"
    },
    {
     "data": {
      "text/html": [
       "<pre style=\"white-space:pre;overflow-x:auto;line-height:normal;font-family:Menlo,'DejaVu Sans Mono',consolas,'Courier New',monospace\"><span style=\"font-weight: bold\">Question: How do the Transformer's self-attention mechanism and parallelizability contribute to the efficiency of </span>\n",
       "<span style=\"font-weight: bold\">retrieval-augmented generation (RAG) models in knowledge-intensive NLP tasks?</span>\n",
       "</pre>\n"
      ],
      "text/plain": [
       "\u001b[1mQuestion: How do the Transformer's self-attention mechanism and parallelizability contribute to the efficiency of \u001b[0m\n",
       "\u001b[1mretrieval-augmented generation \u001b[0m\u001b[1m(\u001b[0m\u001b[1mRAG\u001b[0m\u001b[1m)\u001b[0m\u001b[1m models in knowledge-intensive NLP tasks?\u001b[0m\n"
      ]
     },
     "metadata": {},
     "output_type": "display_data"
    },
    {
     "data": {
      "text/html": [
       "<pre style=\"white-space:pre;overflow-x:auto;line-height:normal;font-family:Menlo,'DejaVu Sans Mono',consolas,'Courier New',monospace\"><span style=\"color: #76b900; text-decoration-color: #76b900; font-weight: bold\">Answer: The Transformer's self-attention mechanism, which enables parallelization and reduces the computational </span>\n",
       "<span style=\"color: #76b900; text-decoration-color: #76b900; font-weight: bold\">cost of relating input or output positions, facilitates the development of efficient RAG models that can leverage </span>\n",
       "<span style=\"color: #76b900; text-decoration-color: #76b900; font-weight: bold\">large-scale non-parametric memory, such as a dense vector index of Wikipedia, to access and manipulate knowledge </span>\n",
       "<span style=\"color: #76b900; text-decoration-color: #76b900; font-weight: bold\">effectively in RAG models. This efficiency enables RAG models to excel in knowledge-intensive tasks and outperform </span>\n",
       "<span style=\"color: #76b900; text-decoration-color: #76b900; font-weight: bold\">parametric seq2seq models and task-specific retrieve-and-extract architectures.</span>\n",
       "</pre>\n"
      ],
      "text/plain": [
       "\u001b[1;38;2;118;185;0mAnswer: The Transformer's self-attention mechanism, which enables parallelization and reduces the computational \u001b[0m\n",
       "\u001b[1;38;2;118;185;0mcost of relating input or output positions, facilitates the development of efficient RAG models that can leverage \u001b[0m\n",
       "\u001b[1;38;2;118;185;0mlarge-scale non-parametric memory, such as a dense vector index of Wikipedia, to access and manipulate knowledge \u001b[0m\n",
       "\u001b[1;38;2;118;185;0meffectively in RAG models. This efficiency enables RAG models to excel in knowledge-intensive tasks and outperform \u001b[0m\n",
       "\u001b[1;38;2;118;185;0mparametric seq2seq models and task-specific retrieve-and-extract architectures.\u001b[0m\n"
      ]
     },
     "metadata": {},
     "output_type": "display_data"
    },
    {
     "name": "stdout",
     "output_type": "stream",
     "text": [
      "\n"
     ]
    }
   ],
   "source": [
    "import random\n",
    "\n",
    "num_questions = 3\n",
    "synth_questions = []\n",
    "synth_answers = []\n",
    "\n",
    "simple_prompt = ChatPromptTemplate.from_messages([('system', '{system}'), ('user', 'INPUT: {input}')])\n",
    "\n",
    "for i in range(num_questions):\n",
    "    doc1, doc2 = random.sample(docs, 2)\n",
    "    sys_msg = (\n",
    "        \"Use the documents provided by the user to generate an interesting question-answer pair.\"\n",
    "        \" Try to use both documents if possible, and rely more on the document bodies than the summary.\"\n",
    "        \" Use the format:\\nQuestion: (good question, 1-3 sentences, detailed)\\n\\nAnswer: (answer derived from the documents)\"\n",
    "        \" DO NOT SAY: \\\"Here is an interesting question pair\\\" or similar. FOLLOW FORMAT!\"\n",
    "    )\n",
    "    usr_msg = (\n",
    "        f\"Document1: {format_chunk(doc1)}\\n\\n\"\n",
    "        f\"Document2: {format_chunk(doc2)}\"\n",
    "    )\n",
    "\n",
    "    qa_pair = (simple_prompt | llm).invoke({'system': sys_msg, 'input': usr_msg})\n",
    "    synth_questions += [qa_pair.split('\\n\\n')[0]]\n",
    "    synth_answers += [qa_pair.split('\\n\\n')[1]]\n",
    "    pprint2(f\"QA Pair {i+1}\")\n",
    "    pprint2(synth_questions[-1])\n",
    "    pprint(synth_answers[-1])\n",
    "    print()"
   ]
  },
  {
   "cell_type": "markdown",
   "id": "c5Q-3X4vS98P",
   "metadata": {
    "id": "c5Q-3X4vS98P"
   },
   "source": [
    "<br>\n",
    "\n",
    "### **Step 4:** Answer The Synthetic Questions\n",
    "\n",
    "In this section, we can implement the third part of our evaluation routine:\n",
    "\n",
    "- Sample the RAG agent document pool to find two document chunks.\n",
    "- Use those two document chunks to generate a synthetic \"baseline\" question-answer pair.\n",
    "- **Use the RAG agent to generate its own answer.**\n",
    "- Use a judge LLM to compare the two responses while grounding the synthetic generation as \"ground-truth correct.\"\n",
    "\n",
    "The chain should be a simple but powerful process that tests for the following objective:\n",
    "\n",
    "> Does my RAG chain outperform a narrow chatbot with limited document access?"
   ]
  },
  {
   "cell_type": "code",
   "execution_count": 5,
   "id": "7T3GSwhZPHjF",
   "metadata": {
    "id": "7T3GSwhZPHjF",
    "scrolled": true
   },
   "outputs": [
    {
     "data": {
      "text/html": [
       "<pre style=\"white-space:pre;overflow-x:auto;line-height:normal;font-family:Menlo,'DejaVu Sans Mono',consolas,'Courier New',monospace\"><span style=\"font-weight: bold\">QA Pair </span><span style=\"color: #008080; text-decoration-color: #008080; font-weight: bold\">1</span>\n",
       "<span style=\"font-weight: bold\">Question: What are some of the limitations of large language models that make them unsuitable for certain </span>\n",
       "<span style=\"font-weight: bold\">applications, despite their promise as a gateway to natural-language-based knowledge tasks?</span>\n",
       "\n",
       "</pre>\n"
      ],
      "text/plain": [
       "\u001b[1mQA Pair \u001b[0m\u001b[1;36m1\u001b[0m\n",
       "\u001b[1mQuestion: What are some of the limitations of large language models that make them unsuitable for certain \u001b[0m\n",
       "\u001b[1mapplications, despite their promise as a gateway to natural-language-based knowledge tasks?\u001b[0m\n",
       "\n"
      ]
     },
     "metadata": {},
     "output_type": "display_data"
    },
    {
     "data": {
      "text/html": [
       "<pre style=\"white-space:pre;overflow-x:auto;line-height:normal;font-family:Menlo,'DejaVu Sans Mono',consolas,'Courier New',monospace\"><span style=\"color: #76b900; text-decoration-color: #76b900; font-weight: bold\">RAG Answer: You're asking about the limitations of large language models! Despite their impressive capabilities, </span>\n",
       "<span style=\"color: #76b900; text-decoration-color: #76b900; font-weight: bold\">there are some major limitations that make them unsuitable for certain applications. Let's dive in.</span>\n",
       "\n",
       "<span style=\"color: #76b900; text-decoration-color: #76b900; font-weight: bold\">According to the text, large language models (LLMs) have several limitations that make them less reliable for </span>\n",
       "<span style=\"color: #76b900; text-decoration-color: #76b900; font-weight: bold\">certain tasks:</span>\n",
       "\n",
       "<span style=\"color: #008080; text-decoration-color: #008080; font-weight: bold\">1</span><span style=\"color: #76b900; text-decoration-color: #76b900; font-weight: bold\">. **Lack of access to current information**: LLMs can't keep up with dynamic information that's constantly </span>\n",
       "<span style=\"color: #76b900; text-decoration-color: #76b900; font-weight: bold\">changing, such as exchange rates, COVID numbers, stock prices, or the current date. This is because their training </span>\n",
       "<span style=\"color: #76b900; text-decoration-color: #76b900; font-weight: bold\">data is usually static and can't be updated in real-time.</span>\n",
       "<span style=\"color: #008080; text-decoration-color: #008080; font-weight: bold\">2</span><span style=\"color: #76b900; text-decoration-color: #76b900; font-weight: bold\">. **Lack of access to proprietary information sources**: LLMs don't have access to proprietary information, such </span>\n",
       "<span style=\"color: #76b900; text-decoration-color: #76b900; font-weight: bold\">as client rosters in a company's database or the state of an online game. This makes them less suitable for </span>\n",
       "<span style=\"color: #76b900; text-decoration-color: #76b900; font-weight: bold\">applications that require access to sensitive or proprietary information.</span>\n",
       "<span style=\"color: #008080; text-decoration-color: #008080; font-weight: bold\">3</span><span style=\"color: #76b900; text-decoration-color: #76b900; font-weight: bold\">. **Lack of reasoning**: Certain types of reasoning, such as mathematical reasoning, are still beyond the reach of</span>\n",
       "<span style=\"color: #76b900; text-decoration-color: #76b900; font-weight: bold\">neural approaches. While LLMs can perform well on simple arithmetic operations, they can struggle with more complex</span>\n",
       "<span style=\"color: #76b900; text-decoration-color: #76b900; font-weight: bold\">tasks.</span>\n",
       "<span style=\"color: #008080; text-decoration-color: #008080; font-weight: bold\">4</span><span style=\"color: #76b900; text-decoration-color: #76b900; font-weight: bold\">. **Model explosion**: Training and deploying large language models is a complex and resource-intensive process. </span>\n",
       "<span style=\"color: #76b900; text-decoration-color: #76b900; font-weight: bold\">This makes it challenging to update or fine-tune models repeatedly, which is an issue given the cost of training </span>\n",
       "<span style=\"color: #76b900; text-decoration-color: #76b900; font-weight: bold\">such models.</span>\n",
       "\n",
       "<span style=\"color: #76b900; text-decoration-color: #76b900; font-weight: bold\">These limitations highlight the need for more advanced architectures, like the Modular Reasoning, Knowledge and </span>\n",
       "<span style=\"color: #76b900; text-decoration-color: #76b900; font-weight: bold\">Language (MRKL) system, which combines large language models with external knowledge sources and discrete </span>\n",
       "<span style=\"color: #76b900; text-decoration-color: #76b900; font-weight: bold\">reasoning. This approach can help mitigate some of the limitations of LLMs and make them more suitable for a wider </span>\n",
       "<span style=\"color: #76b900; text-decoration-color: #76b900; font-weight: bold\">range of applications.</span>\n",
       "\n",
       "<span style=\"color: #76b900; text-decoration-color: #76b900; font-weight: bold\">Do you have any follow-up questions on this topic?</span>\n",
       "\n",
       "</pre>\n"
      ],
      "text/plain": [
       "\u001b[1;38;2;118;185;0mRAG Answer: You're asking about the limitations of large language models! Despite their impressive capabilities, \u001b[0m\n",
       "\u001b[1;38;2;118;185;0mthere are some major limitations that make them unsuitable for certain applications. Let's dive in.\u001b[0m\n",
       "\n",
       "\u001b[1;38;2;118;185;0mAccording to the text, large language models \u001b[0m\u001b[1;38;2;118;185;0m(\u001b[0m\u001b[1;38;2;118;185;0mLLMs\u001b[0m\u001b[1;38;2;118;185;0m)\u001b[0m\u001b[1;38;2;118;185;0m have several limitations that make them less reliable for \u001b[0m\n",
       "\u001b[1;38;2;118;185;0mcertain tasks:\u001b[0m\n",
       "\n",
       "\u001b[1;36m1\u001b[0m\u001b[1;38;2;118;185;0m. **Lack of access to current information**: LLMs can't keep up with dynamic information that's constantly \u001b[0m\n",
       "\u001b[1;38;2;118;185;0mchanging, such as exchange rates, COVID numbers, stock prices, or the current date. This is because their training \u001b[0m\n",
       "\u001b[1;38;2;118;185;0mdata is usually static and can't be updated in real-time.\u001b[0m\n",
       "\u001b[1;36m2\u001b[0m\u001b[1;38;2;118;185;0m. **Lack of access to proprietary information sources**: LLMs don't have access to proprietary information, such \u001b[0m\n",
       "\u001b[1;38;2;118;185;0mas client rosters in a company's database or the state of an online game. This makes them less suitable for \u001b[0m\n",
       "\u001b[1;38;2;118;185;0mapplications that require access to sensitive or proprietary information.\u001b[0m\n",
       "\u001b[1;36m3\u001b[0m\u001b[1;38;2;118;185;0m. **Lack of reasoning**: Certain types of reasoning, such as mathematical reasoning, are still beyond the reach of\u001b[0m\n",
       "\u001b[1;38;2;118;185;0mneural approaches. While LLMs can perform well on simple arithmetic operations, they can struggle with more complex\u001b[0m\n",
       "\u001b[1;38;2;118;185;0mtasks.\u001b[0m\n",
       "\u001b[1;36m4\u001b[0m\u001b[1;38;2;118;185;0m. **Model explosion**: Training and deploying large language models is a complex and resource-intensive process. \u001b[0m\n",
       "\u001b[1;38;2;118;185;0mThis makes it challenging to update or fine-tune models repeatedly, which is an issue given the cost of training \u001b[0m\n",
       "\u001b[1;38;2;118;185;0msuch models.\u001b[0m\n",
       "\n",
       "\u001b[1;38;2;118;185;0mThese limitations highlight the need for more advanced architectures, like the Modular Reasoning, Knowledge and \u001b[0m\n",
       "\u001b[1;38;2;118;185;0mLanguage \u001b[0m\u001b[1;38;2;118;185;0m(\u001b[0m\u001b[1;38;2;118;185;0mMRKL\u001b[0m\u001b[1;38;2;118;185;0m)\u001b[0m\u001b[1;38;2;118;185;0m system, which combines large language models with external knowledge sources and discrete \u001b[0m\n",
       "\u001b[1;38;2;118;185;0mreasoning. This approach can help mitigate some of the limitations of LLMs and make them more suitable for a wider \u001b[0m\n",
       "\u001b[1;38;2;118;185;0mrange of applications.\u001b[0m\n",
       "\n",
       "\u001b[1;38;2;118;185;0mDo you have any follow-up questions on this topic?\u001b[0m\n",
       "\n"
      ]
     },
     "metadata": {},
     "output_type": "display_data"
    },
    {
     "data": {
      "text/html": [
       "<pre style=\"white-space:pre;overflow-x:auto;line-height:normal;font-family:Menlo,'DejaVu Sans Mono',consolas,'Courier New',monospace\"><span style=\"font-weight: bold\">QA Pair </span><span style=\"color: #008080; text-decoration-color: #008080; font-weight: bold\">2</span>\n",
       "<span style=\"font-weight: bold\">Question: How do the limitations of large language models, such as the inability to access and precisely manipulate</span>\n",
       "<span style=\"font-weight: bold\">knowledge, impact the performance of AI systems on knowledge-intensive tasks?</span>\n",
       "\n",
       "</pre>\n"
      ],
      "text/plain": [
       "\u001b[1mQA Pair \u001b[0m\u001b[1;36m2\u001b[0m\n",
       "\u001b[1mQuestion: How do the limitations of large language models, such as the inability to access and precisely manipulate\u001b[0m\n",
       "\u001b[1mknowledge, impact the performance of AI systems on knowledge-intensive tasks?\u001b[0m\n",
       "\n"
      ]
     },
     "metadata": {},
     "output_type": "display_data"
    },
    {
     "data": {
      "text/html": [
       "<pre style=\"white-space:pre;overflow-x:auto;line-height:normal;font-family:Menlo,'DejaVu Sans Mono',consolas,'Courier New',monospace\"><span style=\"color: #76b900; text-decoration-color: #76b900; font-weight: bold\">RAG Answer: Those limitations of large language models (LLMs) are a concern when it comes to knowledge-intensive </span>\n",
       "<span style=\"color: #76b900; text-decoration-color: #76b900; font-weight: bold\">tasks. For one, LMs don't have access to all relevant knowledge. This means they can struggle to understand certain</span>\n",
       "<span style=\"color: #76b900; text-decoration-color: #76b900; font-weight: bold\">facts or information, like the number of citizens in US cities or the current weather in Vancouver. </span>\n",
       "\n",
       "<span style=\"color: #76b900; text-decoration-color: #76b900; font-weight: bold\">Furthermore, they lack the ability to precisely manipulate knowledge. This is particularly evident in mathematical </span>\n",
       "<span style=\"color: #76b900; text-decoration-color: #76b900; font-weight: bold\">reasoning. While they can perform simple arithmetic operations like </span><span style=\"color: #008080; text-decoration-color: #008080; font-weight: bold\">2</span><span style=\"color: #76b900; text-decoration-color: #76b900; font-weight: bold\">-digit addition, they stumble with more </span>\n",
       "<span style=\"color: #76b900; text-decoration-color: #76b900; font-weight: bold\">complex calculations like </span><span style=\"color: #008080; text-decoration-color: #008080; font-weight: bold\">4</span><span style=\"color: #76b900; text-decoration-color: #76b900; font-weight: bold\">-digit additions. Even worse, their performance doesn't improve significantly with </span>\n",
       "<span style=\"color: #76b900; text-decoration-color: #76b900; font-weight: bold\">increased training time or better data.</span>\n",
       "\n",
       "</pre>\n"
      ],
      "text/plain": [
       "\u001b[1;38;2;118;185;0mRAG Answer: Those limitations of large language models \u001b[0m\u001b[1;38;2;118;185;0m(\u001b[0m\u001b[1;38;2;118;185;0mLLMs\u001b[0m\u001b[1;38;2;118;185;0m)\u001b[0m\u001b[1;38;2;118;185;0m are a concern when it comes to knowledge-intensive \u001b[0m\n",
       "\u001b[1;38;2;118;185;0mtasks. For one, LMs don't have access to all relevant knowledge. This means they can struggle to understand certain\u001b[0m\n",
       "\u001b[1;38;2;118;185;0mfacts or information, like the number of citizens in US cities or the current weather in Vancouver. \u001b[0m\n",
       "\n",
       "\u001b[1;38;2;118;185;0mFurthermore, they lack the ability to precisely manipulate knowledge. This is particularly evident in mathematical \u001b[0m\n",
       "\u001b[1;38;2;118;185;0mreasoning. While they can perform simple arithmetic operations like \u001b[0m\u001b[1;36m2\u001b[0m\u001b[1;38;2;118;185;0m-digit addition, they stumble with more \u001b[0m\n",
       "\u001b[1;38;2;118;185;0mcomplex calculations like \u001b[0m\u001b[1;36m4\u001b[0m\u001b[1;38;2;118;185;0m-digit additions. Even worse, their performance doesn't improve significantly with \u001b[0m\n",
       "\u001b[1;38;2;118;185;0mincreased training time or better data.\u001b[0m\n",
       "\n"
      ]
     },
     "metadata": {},
     "output_type": "display_data"
    },
    {
     "data": {
      "text/html": [
       "<pre style=\"white-space:pre;overflow-x:auto;line-height:normal;font-family:Menlo,'DejaVu Sans Mono',consolas,'Courier New',monospace\"><span style=\"font-weight: bold\">QA Pair </span><span style=\"color: #008080; text-decoration-color: #008080; font-weight: bold\">3</span>\n",
       "<span style=\"font-weight: bold\">Question: How do the Transformer's self-attention mechanism and parallelizability contribute to the efficiency of </span>\n",
       "<span style=\"font-weight: bold\">retrieval-augmented generation (RAG) models in knowledge-intensive NLP tasks?</span>\n",
       "\n",
       "</pre>\n"
      ],
      "text/plain": [
       "\u001b[1mQA Pair \u001b[0m\u001b[1;36m3\u001b[0m\n",
       "\u001b[1mQuestion: How do the Transformer's self-attention mechanism and parallelizability contribute to the efficiency of \u001b[0m\n",
       "\u001b[1mretrieval-augmented generation \u001b[0m\u001b[1m(\u001b[0m\u001b[1mRAG\u001b[0m\u001b[1m)\u001b[0m\u001b[1m models in knowledge-intensive NLP tasks?\u001b[0m\n",
       "\n"
      ]
     },
     "metadata": {},
     "output_type": "display_data"
    },
    {
     "data": {
      "text/html": [
       "<pre style=\"white-space:pre;overflow-x:auto;line-height:normal;font-family:Menlo,'DejaVu Sans Mono',consolas,'Courier New',monospace\"><span style=\"color: #76b900; text-decoration-color: #76b900; font-weight: bold\">RAG Answer: Let's dive into the Transformer's self-attention mechanism and how it contributes to the efficiency of </span>\n",
       "<span style=\"color: #76b900; text-decoration-color: #76b900; font-weight: bold\">Retrieval-Augmented Generation (RAG) models in knowledge-intensive NLP tasks.</span>\n",
       "\n",
       "<span style=\"color: #76b900; text-decoration-color: #76b900; font-weight: bold\">The Transformer's self-attention mechanism allows RAG models to focus on the most relevant parts of the input </span>\n",
       "<span style=\"color: #76b900; text-decoration-color: #76b900; font-weight: bold\">sequence x when retrieving text documents z. By weighing the importance of different input tokens, the </span>\n",
       "<span style=\"color: #76b900; text-decoration-color: #76b900; font-weight: bold\">self-attention mechanism enables the model to capture long-range dependencies and contextual relationships between </span>\n",
       "<span style=\"color: #76b900; text-decoration-color: #76b900; font-weight: bold\">tokens (Vaswani et al., </span><span style=\"color: #008080; text-decoration-color: #008080; font-weight: bold\">2017</span><span style=\"color: #76b900; text-decoration-color: #76b900; font-weight: bold\">). In the context of RAG, this means that the model can retrieve the most relevant </span>\n",
       "<span style=\"color: #76b900; text-decoration-color: #76b900; font-weight: bold\">documents for a given input sequence, which in turn enables it to generate more accurate and informative responses.</span>\n",
       "\n",
       "<span style=\"color: #76b900; text-decoration-color: #76b900; font-weight: bold\">As for parallelizability, the Transformer's architecture is inherently designed to be parallelizable. This property</span>\n",
       "<span style=\"color: #76b900; text-decoration-color: #76b900; font-weight: bold\">of the Transformer is crucial for RAG models, as it allows the model to process multiple documents in parallel and </span>\n",
       "<span style=\"color: #76b900; text-decoration-color: #76b900; font-weight: bold\">retrieve the relevant information in a much more efficient manner. By harnessing the power of parallel processing, </span>\n",
       "<span style=\"color: #76b900; text-decoration-color: #76b900; font-weight: bold\">RAG models can handle large amounts of knowledge-intensive data and generate responses in a matter of seconds or </span>\n",
       "<span style=\"color: #76b900; text-decoration-color: #76b900; font-weight: bold\">even milliseconds (Dai et al., </span><span style=\"color: #008080; text-decoration-color: #008080; font-weight: bold\">2019</span><span style=\"color: #76b900; text-decoration-color: #76b900; font-weight: bold\">).</span>\n",
       "\n",
       "<span style=\"color: #76b900; text-decoration-color: #76b900; font-weight: bold\">In the paper, the authors also mention using Dense Passage Retrieval (DPR) as the retriever, which utilized dense </span>\n",
       "<span style=\"color: #76b900; text-decoration-color: #76b900; font-weight: bold\">embeddings and a pairwise similarity function for document retrieval. The paper states </span><span style=\"color: #008000; text-decoration-color: #008000\">\"We combine these components</span>\n",
       "<span style=\"color: #008000; text-decoration-color: #008000\">in a probabilistic model trained end-to-end...\"</span><span style=\"color: #76b900; text-decoration-color: #76b900; font-weight: bold\"> which highlights the importance of the parallelizability aspect of </span>\n",
       "<span style=\"color: #76b900; text-decoration-color: #76b900; font-weight: bold\">the self-attention mechanism in enabling the efficient end-to-end training of the RAG model.</span>\n",
       "\n",
       "<span style=\"color: #76b900; text-decoration-color: #76b900; font-weight: bold\">Overall, the Transformer's self-attention mechanism and parallelizability are key factors that contribute to the </span>\n",
       "<span style=\"color: #76b900; text-decoration-color: #76b900; font-weight: bold\">efficiency of RAG models in knowledge-intensive NLP tasks.</span>\n",
       "\n",
       "<span style=\"color: #76b900; text-decoration-color: #76b900; font-weight: bold\">References:</span>\n",
       "\n",
       "<span style=\"color: #76b900; text-decoration-color: #76b900; font-weight: bold\">Vaswani, A., et al. (</span><span style=\"color: #008080; text-decoration-color: #008080; font-weight: bold\">2017</span><span style=\"color: #76b900; text-decoration-color: #76b900; font-weight: bold\">). Attention is all you need. arXiv preprint arXiv:</span><span style=\"color: #008080; text-decoration-color: #008080; font-weight: bold\">1706.03762</span><span style=\"color: #76b900; text-decoration-color: #76b900; font-weight: bold\">.</span>\n",
       "\n",
       "<span style=\"color: #76b900; text-decoration-color: #76b900; font-weight: bold\">Dai, Zhang, and Yu (</span><span style=\"color: #008080; text-decoration-color: #008080; font-weight: bold\">2019</span><span style=\"color: #76b900; text-decoration-color: #76b900; font-weight: bold\">). Transformer-XH: Enabling Large Minibatch Training of Transformers with High Model </span>\n",
       "<span style=\"color: #76b900; text-decoration-color: #76b900; font-weight: bold\">Variance. In Advances in Neural Information Processing Systems (pp. </span><span style=\"color: #008080; text-decoration-color: #008080; font-weight: bold\">2341</span><span style=\"color: #76b900; text-decoration-color: #76b900; font-weight: bold\">-</span><span style=\"color: #008080; text-decoration-color: #008080; font-weight: bold\">2353</span><span style=\"color: #76b900; text-decoration-color: #76b900; font-weight: bold\">).</span>\n",
       "\n",
       "<span style=\"color: #76b900; text-decoration-color: #76b900; font-weight: bold\">Please let me know if you have any further questions!</span>\n",
       "\n",
       "</pre>\n"
      ],
      "text/plain": [
       "\u001b[1;38;2;118;185;0mRAG Answer: Let's dive into the Transformer's self-attention mechanism and how it contributes to the efficiency of \u001b[0m\n",
       "\u001b[1;38;2;118;185;0mRetrieval-Augmented Generation \u001b[0m\u001b[1;38;2;118;185;0m(\u001b[0m\u001b[1;38;2;118;185;0mRAG\u001b[0m\u001b[1;38;2;118;185;0m)\u001b[0m\u001b[1;38;2;118;185;0m models in knowledge-intensive NLP tasks.\u001b[0m\n",
       "\n",
       "\u001b[1;38;2;118;185;0mThe Transformer's self-attention mechanism allows RAG models to focus on the most relevant parts of the input \u001b[0m\n",
       "\u001b[1;38;2;118;185;0msequence x when retrieving text documents z. By weighing the importance of different input tokens, the \u001b[0m\n",
       "\u001b[1;38;2;118;185;0mself-attention mechanism enables the model to capture long-range dependencies and contextual relationships between \u001b[0m\n",
       "\u001b[1;38;2;118;185;0mtokens \u001b[0m\u001b[1;38;2;118;185;0m(\u001b[0m\u001b[1;38;2;118;185;0mVaswani et al., \u001b[0m\u001b[1;36m2017\u001b[0m\u001b[1;38;2;118;185;0m)\u001b[0m\u001b[1;38;2;118;185;0m. In the context of RAG, this means that the model can retrieve the most relevant \u001b[0m\n",
       "\u001b[1;38;2;118;185;0mdocuments for a given input sequence, which in turn enables it to generate more accurate and informative responses.\u001b[0m\n",
       "\n",
       "\u001b[1;38;2;118;185;0mAs for parallelizability, the Transformer's architecture is inherently designed to be parallelizable. This property\u001b[0m\n",
       "\u001b[1;38;2;118;185;0mof the Transformer is crucial for RAG models, as it allows the model to process multiple documents in parallel and \u001b[0m\n",
       "\u001b[1;38;2;118;185;0mretrieve the relevant information in a much more efficient manner. By harnessing the power of parallel processing, \u001b[0m\n",
       "\u001b[1;38;2;118;185;0mRAG models can handle large amounts of knowledge-intensive data and generate responses in a matter of seconds or \u001b[0m\n",
       "\u001b[1;38;2;118;185;0meven milliseconds \u001b[0m\u001b[1;38;2;118;185;0m(\u001b[0m\u001b[1;38;2;118;185;0mDai et al., \u001b[0m\u001b[1;36m2019\u001b[0m\u001b[1;38;2;118;185;0m)\u001b[0m\u001b[1;38;2;118;185;0m.\u001b[0m\n",
       "\n",
       "\u001b[1;38;2;118;185;0mIn the paper, the authors also mention using Dense Passage Retrieval \u001b[0m\u001b[1;38;2;118;185;0m(\u001b[0m\u001b[1;38;2;118;185;0mDPR\u001b[0m\u001b[1;38;2;118;185;0m)\u001b[0m\u001b[1;38;2;118;185;0m as the retriever, which utilized dense \u001b[0m\n",
       "\u001b[1;38;2;118;185;0membeddings and a pairwise similarity function for document retrieval. The paper states \u001b[0m\u001b[32m\"We combine these components\u001b[0m\n",
       "\u001b[32min a probabilistic model trained end-to-end...\"\u001b[0m\u001b[1;38;2;118;185;0m which highlights the importance of the parallelizability aspect of \u001b[0m\n",
       "\u001b[1;38;2;118;185;0mthe self-attention mechanism in enabling the efficient end-to-end training of the RAG model.\u001b[0m\n",
       "\n",
       "\u001b[1;38;2;118;185;0mOverall, the Transformer's self-attention mechanism and parallelizability are key factors that contribute to the \u001b[0m\n",
       "\u001b[1;38;2;118;185;0mefficiency of RAG models in knowledge-intensive NLP tasks.\u001b[0m\n",
       "\n",
       "\u001b[1;38;2;118;185;0mReferences:\u001b[0m\n",
       "\n",
       "\u001b[1;38;2;118;185;0mVaswani, A., et al. \u001b[0m\u001b[1;38;2;118;185;0m(\u001b[0m\u001b[1;36m2017\u001b[0m\u001b[1;38;2;118;185;0m)\u001b[0m\u001b[1;38;2;118;185;0m. Attention is all you need. arXiv preprint arXiv:\u001b[0m\u001b[1;36m1706.03762\u001b[0m\u001b[1;38;2;118;185;0m.\u001b[0m\n",
       "\n",
       "\u001b[1;38;2;118;185;0mDai, Zhang, and Yu \u001b[0m\u001b[1;38;2;118;185;0m(\u001b[0m\u001b[1;36m2019\u001b[0m\u001b[1;38;2;118;185;0m)\u001b[0m\u001b[1;38;2;118;185;0m. Transformer-XH: Enabling Large Minibatch Training of Transformers with High Model \u001b[0m\n",
       "\u001b[1;38;2;118;185;0mVariance. In Advances in Neural Information Processing Systems \u001b[0m\u001b[1;38;2;118;185;0m(\u001b[0m\u001b[1;38;2;118;185;0mpp. \u001b[0m\u001b[1;36m2341\u001b[0m\u001b[1;38;2;118;185;0m-\u001b[0m\u001b[1;36m2353\u001b[0m\u001b[1;38;2;118;185;0m)\u001b[0m\u001b[1;38;2;118;185;0m.\u001b[0m\n",
       "\n",
       "\u001b[1;38;2;118;185;0mPlease let me know if you have any further questions!\u001b[0m\n",
       "\n"
      ]
     },
     "metadata": {},
     "output_type": "display_data"
    }
   ],
   "source": [
    "## TODO: Generate some synthetic answers to the questions above.\n",
    "##   Try to use the same syntax as the cell above\n",
    "rag_answers = []\n",
    "for i, q in enumerate(synth_questions):\n",
    "    ## TODO: Compute the RAG Answer\n",
    "    # rag_answer = \"\"\n",
    "    rag_answer = rag_chain.invoke(q)\n",
    "    rag_answers += [rag_answer]\n",
    "    pprint2(f\"QA Pair {i+1}\", q, \"\", sep=\"\\n\")\n",
    "    pprint(f\"RAG Answer: {rag_answer}\", \"\", sep='\\n')"
   ]
  },
  {
   "cell_type": "markdown",
   "id": "Ho5cnN_Xt_yr",
   "metadata": {
    "id": "Ho5cnN_Xt_yr"
   },
   "source": [
    "<br>\n",
    "\n",
    "### **Step 5:** Implement A Human Preference Metric\n",
    "\n",
    "In this section, we can implement the fourth part of our evaluation routine:\n",
    "\n",
    "- Sample the RAG agent document pool to find two document chunks.\n",
    "- Use those two document chunks to generate a synthetic \"baseline\" question-answer pair.\n",
    "- Use the RAG agent to generate its own answer.\n",
    "- **Use a judge LLM to compare the two responses while grounding the synthetic generation as \"ground-truth correct.\"**\n",
    "\n",
    "The chain should be a simple but powerful process that tests for the following objective:\n",
    "\n",
    "> Does my RAG chain outperform a narrow chatbot with limited document access?"
   ]
  },
  {
   "cell_type": "code",
   "execution_count": 6,
   "id": "sf6f2oFLuPtu",
   "metadata": {
    "id": "sf6f2oFLuPtu",
    "scrolled": true
   },
   "outputs": [
    {
     "data": {
      "text/html": [
       "<pre style=\"white-space:pre;overflow-x:auto;line-height:normal;font-family:Menlo,'DejaVu Sans Mono',consolas,'Courier New',monospace\"><span style=\"font-weight: bold\">Set </span><span style=\"color: #008080; text-decoration-color: #008080; font-weight: bold\">1</span>\n",
       "\n",
       "<span style=\"font-weight: bold\">Question: Question: What are some of the limitations of large language models that make them unsuitable for certain</span>\n",
       "<span style=\"font-weight: bold\">applications, despite their promise as a gateway to natural-language-based knowledge tasks?</span>\n",
       "\n",
       "\n",
       "</pre>\n"
      ],
      "text/plain": [
       "\u001b[1mSet \u001b[0m\u001b[1;36m1\u001b[0m\n",
       "\n",
       "\u001b[1mQuestion: Question: What are some of the limitations of large language models that make them unsuitable for certain\u001b[0m\n",
       "\u001b[1mapplications, despite their promise as a gateway to natural-language-based knowledge tasks?\u001b[0m\n",
       "\n",
       "\n"
      ]
     },
     "metadata": {},
     "output_type": "display_data"
    },
    {
     "data": {
      "text/html": [
       "<pre style=\"white-space:pre;overflow-x:auto;line-height:normal;font-family:Menlo,'DejaVu Sans Mono',consolas,'Courier New',monospace\"><span style=\"color: #76b900; text-decoration-color: #76b900; font-weight: bold\">Synth Answer: Answer: Large language models (LMs) can struggle with understanding certain types of information, </span>\n",
       "<span style=\"color: #76b900; text-decoration-color: #76b900; font-weight: bold\">such as dynamic data (e.g., current exchange rates, COVID numbers, or stock prices), proprietary information </span>\n",
       "<span style=\"color: #76b900; text-decoration-color: #76b900; font-weight: bold\">sources, and engaging in simple mathematical reasoning, due to their lack of access to all relevant knowledge and </span>\n",
       "<span style=\"color: #76b900; text-decoration-color: #76b900; font-weight: bold\">their ill-suited nature for certain types of calculation.</span>\n",
       "\n",
       "\n",
       "</pre>\n"
      ],
      "text/plain": [
       "\u001b[1;38;2;118;185;0mSynth Answer: Answer: Large language models \u001b[0m\u001b[1;38;2;118;185;0m(\u001b[0m\u001b[1;38;2;118;185;0mLMs\u001b[0m\u001b[1;38;2;118;185;0m)\u001b[0m\u001b[1;38;2;118;185;0m can struggle with understanding certain types of information, \u001b[0m\n",
       "\u001b[1;38;2;118;185;0msuch as dynamic data \u001b[0m\u001b[1;38;2;118;185;0m(\u001b[0m\u001b[1;38;2;118;185;0me.g., current exchange rates, COVID numbers, or stock prices\u001b[0m\u001b[1;38;2;118;185;0m)\u001b[0m\u001b[1;38;2;118;185;0m, proprietary information \u001b[0m\n",
       "\u001b[1;38;2;118;185;0msources, and engaging in simple mathematical reasoning, due to their lack of access to all relevant knowledge and \u001b[0m\n",
       "\u001b[1;38;2;118;185;0mtheir ill-suited nature for certain types of calculation.\u001b[0m\n",
       "\n",
       "\n"
      ]
     },
     "metadata": {},
     "output_type": "display_data"
    },
    {
     "data": {
      "text/html": [
       "<pre style=\"white-space:pre;overflow-x:auto;line-height:normal;font-family:Menlo,'DejaVu Sans Mono',consolas,'Courier New',monospace\"><span style=\"color: #76b900; text-decoration-color: #76b900; font-weight: bold\">RAG Answer: You're asking about the limitations of large language models! Despite their impressive capabilities, </span>\n",
       "<span style=\"color: #76b900; text-decoration-color: #76b900; font-weight: bold\">there are some major limitations that make them unsuitable for certain applications. Let's dive in.</span>\n",
       "\n",
       "<span style=\"color: #76b900; text-decoration-color: #76b900; font-weight: bold\">According to the text, large language models (LLMs) have several limitations that make them less reliable for </span>\n",
       "<span style=\"color: #76b900; text-decoration-color: #76b900; font-weight: bold\">certain tasks:</span>\n",
       "\n",
       "<span style=\"color: #008080; text-decoration-color: #008080; font-weight: bold\">1</span><span style=\"color: #76b900; text-decoration-color: #76b900; font-weight: bold\">. **Lack of access to current information**: LLMs can't keep up with dynamic information that's constantly </span>\n",
       "<span style=\"color: #76b900; text-decoration-color: #76b900; font-weight: bold\">changing, such as exchange rates, COVID numbers, stock prices, or the current date. This is because their training </span>\n",
       "<span style=\"color: #76b900; text-decoration-color: #76b900; font-weight: bold\">data is usually static and can't be updated in real-time.</span>\n",
       "<span style=\"color: #008080; text-decoration-color: #008080; font-weight: bold\">2</span><span style=\"color: #76b900; text-decoration-color: #76b900; font-weight: bold\">. **Lack of access to proprietary information sources**: LLMs don't have access to proprietary information, such </span>\n",
       "<span style=\"color: #76b900; text-decoration-color: #76b900; font-weight: bold\">as client rosters in a company's database or the state of an online game. This makes them less suitable for </span>\n",
       "<span style=\"color: #76b900; text-decoration-color: #76b900; font-weight: bold\">applications that require access to sensitive or proprietary information.</span>\n",
       "<span style=\"color: #008080; text-decoration-color: #008080; font-weight: bold\">3</span><span style=\"color: #76b900; text-decoration-color: #76b900; font-weight: bold\">. **Lack of reasoning**: Certain types of reasoning, such as mathematical reasoning, are still beyond the reach of</span>\n",
       "<span style=\"color: #76b900; text-decoration-color: #76b900; font-weight: bold\">neural approaches. While LLMs can perform well on simple arithmetic operations, they can struggle with more complex</span>\n",
       "<span style=\"color: #76b900; text-decoration-color: #76b900; font-weight: bold\">tasks.</span>\n",
       "<span style=\"color: #008080; text-decoration-color: #008080; font-weight: bold\">4</span><span style=\"color: #76b900; text-decoration-color: #76b900; font-weight: bold\">. **Model explosion**: Training and deploying large language models is a complex and resource-intensive process. </span>\n",
       "<span style=\"color: #76b900; text-decoration-color: #76b900; font-weight: bold\">This makes it challenging to update or fine-tune models repeatedly, which is an issue given the cost of training </span>\n",
       "<span style=\"color: #76b900; text-decoration-color: #76b900; font-weight: bold\">such models.</span>\n",
       "\n",
       "<span style=\"color: #76b900; text-decoration-color: #76b900; font-weight: bold\">These limitations highlight the need for more advanced architectures, like the Modular Reasoning, Knowledge and </span>\n",
       "<span style=\"color: #76b900; text-decoration-color: #76b900; font-weight: bold\">Language (MRKL) system, which combines large language models with external knowledge sources and discrete </span>\n",
       "<span style=\"color: #76b900; text-decoration-color: #76b900; font-weight: bold\">reasoning. This approach can help mitigate some of the limitations of LLMs and make them more suitable for a wider </span>\n",
       "<span style=\"color: #76b900; text-decoration-color: #76b900; font-weight: bold\">range of applications.</span>\n",
       "\n",
       "<span style=\"color: #76b900; text-decoration-color: #76b900; font-weight: bold\">Do you have any follow-up questions on this topic?</span>\n",
       "\n",
       "\n",
       "</pre>\n"
      ],
      "text/plain": [
       "\u001b[1;38;2;118;185;0mRAG Answer: You're asking about the limitations of large language models! Despite their impressive capabilities, \u001b[0m\n",
       "\u001b[1;38;2;118;185;0mthere are some major limitations that make them unsuitable for certain applications. Let's dive in.\u001b[0m\n",
       "\n",
       "\u001b[1;38;2;118;185;0mAccording to the text, large language models \u001b[0m\u001b[1;38;2;118;185;0m(\u001b[0m\u001b[1;38;2;118;185;0mLLMs\u001b[0m\u001b[1;38;2;118;185;0m)\u001b[0m\u001b[1;38;2;118;185;0m have several limitations that make them less reliable for \u001b[0m\n",
       "\u001b[1;38;2;118;185;0mcertain tasks:\u001b[0m\n",
       "\n",
       "\u001b[1;36m1\u001b[0m\u001b[1;38;2;118;185;0m. **Lack of access to current information**: LLMs can't keep up with dynamic information that's constantly \u001b[0m\n",
       "\u001b[1;38;2;118;185;0mchanging, such as exchange rates, COVID numbers, stock prices, or the current date. This is because their training \u001b[0m\n",
       "\u001b[1;38;2;118;185;0mdata is usually static and can't be updated in real-time.\u001b[0m\n",
       "\u001b[1;36m2\u001b[0m\u001b[1;38;2;118;185;0m. **Lack of access to proprietary information sources**: LLMs don't have access to proprietary information, such \u001b[0m\n",
       "\u001b[1;38;2;118;185;0mas client rosters in a company's database or the state of an online game. This makes them less suitable for \u001b[0m\n",
       "\u001b[1;38;2;118;185;0mapplications that require access to sensitive or proprietary information.\u001b[0m\n",
       "\u001b[1;36m3\u001b[0m\u001b[1;38;2;118;185;0m. **Lack of reasoning**: Certain types of reasoning, such as mathematical reasoning, are still beyond the reach of\u001b[0m\n",
       "\u001b[1;38;2;118;185;0mneural approaches. While LLMs can perform well on simple arithmetic operations, they can struggle with more complex\u001b[0m\n",
       "\u001b[1;38;2;118;185;0mtasks.\u001b[0m\n",
       "\u001b[1;36m4\u001b[0m\u001b[1;38;2;118;185;0m. **Model explosion**: Training and deploying large language models is a complex and resource-intensive process. \u001b[0m\n",
       "\u001b[1;38;2;118;185;0mThis makes it challenging to update or fine-tune models repeatedly, which is an issue given the cost of training \u001b[0m\n",
       "\u001b[1;38;2;118;185;0msuch models.\u001b[0m\n",
       "\n",
       "\u001b[1;38;2;118;185;0mThese limitations highlight the need for more advanced architectures, like the Modular Reasoning, Knowledge and \u001b[0m\n",
       "\u001b[1;38;2;118;185;0mLanguage \u001b[0m\u001b[1;38;2;118;185;0m(\u001b[0m\u001b[1;38;2;118;185;0mMRKL\u001b[0m\u001b[1;38;2;118;185;0m)\u001b[0m\u001b[1;38;2;118;185;0m system, which combines large language models with external knowledge sources and discrete \u001b[0m\n",
       "\u001b[1;38;2;118;185;0mreasoning. This approach can help mitigate some of the limitations of LLMs and make them more suitable for a wider \u001b[0m\n",
       "\u001b[1;38;2;118;185;0mrange of applications.\u001b[0m\n",
       "\n",
       "\u001b[1;38;2;118;185;0mDo you have any follow-up questions on this topic?\u001b[0m\n",
       "\n",
       "\n"
      ]
     },
     "metadata": {},
     "output_type": "display_data"
    },
    {
     "data": {
      "text/html": [
       "<pre style=\"white-space:pre;overflow-x:auto;line-height:normal;font-family:Menlo,'DejaVu Sans Mono',consolas,'Courier New',monospace\"><span style=\"font-weight: bold\">Synth Evaluation: [</span><span style=\"color: #008080; text-decoration-color: #008080; font-weight: bold\">1</span><span style=\"font-weight: bold\">] Justification</span>\n",
       "\n",
       "<span style=\"font-weight: bold\">The second answer does not directly address the question asked, which is what are the limitations of large language</span>\n",
       "<span style=\"font-weight: bold\">models. The text provided in answer </span><span style=\"color: #008080; text-decoration-color: #008080; font-weight: bold\">2</span><span style=\"font-weight: bold\"> does mention some limitations, but it also discusses various points that are </span>\n",
       "<span style=\"font-weight: bold\">not directly related to the question. For example, model explosion is mentioned, but it's not a limitation of large</span>\n",
       "<span style=\"font-weight: bold\">language models being unsuitable for certain applications. Additionally, the answer introduces a new concept, the </span>\n",
       "<span style=\"font-weight: bold\">MRKL system, which is not part of the original question. The tone of the second answer is also more conversational </span>\n",
       "<span style=\"font-weight: bold\">and inquiring, rather than providing a direct answer to the question.</span>\n",
       "\n",
       "\n",
       "</pre>\n"
      ],
      "text/plain": [
       "\u001b[1mSynth Evaluation: \u001b[0m\u001b[1m[\u001b[0m\u001b[1;36m1\u001b[0m\u001b[1m]\u001b[0m\u001b[1m Justification\u001b[0m\n",
       "\n",
       "\u001b[1mThe second answer does not directly address the question asked, which is what are the limitations of large language\u001b[0m\n",
       "\u001b[1mmodels. The text provided in answer \u001b[0m\u001b[1;36m2\u001b[0m\u001b[1m does mention some limitations, but it also discusses various points that are \u001b[0m\n",
       "\u001b[1mnot directly related to the question. For example, model explosion is mentioned, but it's not a limitation of large\u001b[0m\n",
       "\u001b[1mlanguage models being unsuitable for certain applications. Additionally, the answer introduces a new concept, the \u001b[0m\n",
       "\u001b[1mMRKL system, which is not part of the original question. The tone of the second answer is also more conversational \u001b[0m\n",
       "\u001b[1mand inquiring, rather than providing a direct answer to the question.\u001b[0m\n",
       "\n",
       "\n"
      ]
     },
     "metadata": {},
     "output_type": "display_data"
    },
    {
     "data": {
      "text/html": [
       "<pre style=\"white-space:pre;overflow-x:auto;line-height:normal;font-family:Menlo,'DejaVu Sans Mono',consolas,'Courier New',monospace\"><span style=\"font-weight: bold\">Set </span><span style=\"color: #008080; text-decoration-color: #008080; font-weight: bold\">2</span>\n",
       "\n",
       "<span style=\"font-weight: bold\">Question: Question: How do the limitations of large language models, such as the inability to access and precisely </span>\n",
       "<span style=\"font-weight: bold\">manipulate knowledge, impact the performance of AI systems on knowledge-intensive tasks?</span>\n",
       "\n",
       "\n",
       "</pre>\n"
      ],
      "text/plain": [
       "\u001b[1mSet \u001b[0m\u001b[1;36m2\u001b[0m\n",
       "\n",
       "\u001b[1mQuestion: Question: How do the limitations of large language models, such as the inability to access and precisely \u001b[0m\n",
       "\u001b[1mmanipulate knowledge, impact the performance of AI systems on knowledge-intensive tasks?\u001b[0m\n",
       "\n",
       "\n"
      ]
     },
     "metadata": {},
     "output_type": "display_data"
    },
    {
     "data": {
      "text/html": [
       "<pre style=\"white-space:pre;overflow-x:auto;line-height:normal;font-family:Menlo,'DejaVu Sans Mono',consolas,'Courier New',monospace\"><span style=\"color: #76b900; text-decoration-color: #76b900; font-weight: bold\">Synth Answer: Answer: According to Document2, large pre-trained language models' ability to access and precisely </span>\n",
       "<span style=\"color: #76b900; text-decoration-color: #76b900; font-weight: bold\">manipulate knowledge is still limited, which lag behind task-specific architectures on knowledge-intensive tasks. </span>\n",
       "<span style=\"color: #76b900; text-decoration-color: #76b900; font-weight: bold\">This limitation can be overcome by using pre-trained models with a differentiable access mechanism to explicit </span>\n",
       "<span style=\"color: #76b900; text-decoration-color: #76b900; font-weight: bold\">non-parametric memory, such as retrieval-augmented generation (RAG) models, as explored in Document2.</span>\n",
       "\n",
       "\n",
       "</pre>\n"
      ],
      "text/plain": [
       "\u001b[1;38;2;118;185;0mSynth Answer: Answer: According to Document2, large pre-trained language models' ability to access and precisely \u001b[0m\n",
       "\u001b[1;38;2;118;185;0mmanipulate knowledge is still limited, which lag behind task-specific architectures on knowledge-intensive tasks. \u001b[0m\n",
       "\u001b[1;38;2;118;185;0mThis limitation can be overcome by using pre-trained models with a differentiable access mechanism to explicit \u001b[0m\n",
       "\u001b[1;38;2;118;185;0mnon-parametric memory, such as retrieval-augmented generation \u001b[0m\u001b[1;38;2;118;185;0m(\u001b[0m\u001b[1;38;2;118;185;0mRAG\u001b[0m\u001b[1;38;2;118;185;0m)\u001b[0m\u001b[1;38;2;118;185;0m models, as explored in Document2.\u001b[0m\n",
       "\n",
       "\n"
      ]
     },
     "metadata": {},
     "output_type": "display_data"
    },
    {
     "data": {
      "text/html": [
       "<pre style=\"white-space:pre;overflow-x:auto;line-height:normal;font-family:Menlo,'DejaVu Sans Mono',consolas,'Courier New',monospace\"><span style=\"color: #76b900; text-decoration-color: #76b900; font-weight: bold\">RAG Answer: Those limitations of large language models (LLMs) are a concern when it comes to knowledge-intensive </span>\n",
       "<span style=\"color: #76b900; text-decoration-color: #76b900; font-weight: bold\">tasks. For one, LMs don't have access to all relevant knowledge. This means they can struggle to understand certain</span>\n",
       "<span style=\"color: #76b900; text-decoration-color: #76b900; font-weight: bold\">facts or information, like the number of citizens in US cities or the current weather in Vancouver. </span>\n",
       "\n",
       "<span style=\"color: #76b900; text-decoration-color: #76b900; font-weight: bold\">Furthermore, they lack the ability to precisely manipulate knowledge. This is particularly evident in mathematical </span>\n",
       "<span style=\"color: #76b900; text-decoration-color: #76b900; font-weight: bold\">reasoning. While they can perform simple arithmetic operations like </span><span style=\"color: #008080; text-decoration-color: #008080; font-weight: bold\">2</span><span style=\"color: #76b900; text-decoration-color: #76b900; font-weight: bold\">-digit addition, they stumble with more </span>\n",
       "<span style=\"color: #76b900; text-decoration-color: #76b900; font-weight: bold\">complex calculations like </span><span style=\"color: #008080; text-decoration-color: #008080; font-weight: bold\">4</span><span style=\"color: #76b900; text-decoration-color: #76b900; font-weight: bold\">-digit additions. Even worse, their performance doesn't improve significantly with </span>\n",
       "<span style=\"color: #76b900; text-decoration-color: #76b900; font-weight: bold\">increased training time or better data.</span>\n",
       "\n",
       "\n",
       "</pre>\n"
      ],
      "text/plain": [
       "\u001b[1;38;2;118;185;0mRAG Answer: Those limitations of large language models \u001b[0m\u001b[1;38;2;118;185;0m(\u001b[0m\u001b[1;38;2;118;185;0mLLMs\u001b[0m\u001b[1;38;2;118;185;0m)\u001b[0m\u001b[1;38;2;118;185;0m are a concern when it comes to knowledge-intensive \u001b[0m\n",
       "\u001b[1;38;2;118;185;0mtasks. For one, LMs don't have access to all relevant knowledge. This means they can struggle to understand certain\u001b[0m\n",
       "\u001b[1;38;2;118;185;0mfacts or information, like the number of citizens in US cities or the current weather in Vancouver. \u001b[0m\n",
       "\n",
       "\u001b[1;38;2;118;185;0mFurthermore, they lack the ability to precisely manipulate knowledge. This is particularly evident in mathematical \u001b[0m\n",
       "\u001b[1;38;2;118;185;0mreasoning. While they can perform simple arithmetic operations like \u001b[0m\u001b[1;36m2\u001b[0m\u001b[1;38;2;118;185;0m-digit addition, they stumble with more \u001b[0m\n",
       "\u001b[1;38;2;118;185;0mcomplex calculations like \u001b[0m\u001b[1;36m4\u001b[0m\u001b[1;38;2;118;185;0m-digit additions. Even worse, their performance doesn't improve significantly with \u001b[0m\n",
       "\u001b[1;38;2;118;185;0mincreased training time or better data.\u001b[0m\n",
       "\n",
       "\n"
      ]
     },
     "metadata": {},
     "output_type": "display_data"
    },
    {
     "data": {
      "text/html": [
       "<pre style=\"white-space:pre;overflow-x:auto;line-height:normal;font-family:Menlo,'DejaVu Sans Mono',consolas,'Courier New',monospace\"><span style=\"font-weight: bold\">Synth Evaluation: [</span><span style=\"color: #008080; text-decoration-color: #008080; font-weight: bold\">2</span><span style=\"font-weight: bold\">] Justification</span>\n",
       "\n",
       "<span style=\"font-weight: bold\">The second answer provides more specific examples and evidence to support the limitations of large language models </span>\n",
       "<span style=\"font-weight: bold\">(LLMs) in knowledge-intensive tasks, such as access to relevant knowledge and precise manipulation of knowledge. </span>\n",
       "<span style=\"font-weight: bold\">For instance, it mentions the struggles of LMs to understand certain facts like the number of citizens in US cities</span>\n",
       "<span style=\"font-weight: bold\">or the current weather in Vancouver. It also provides concrete examples of mathematical reasoning where LMs perform</span>\n",
       "<span style=\"font-weight: bold\">poorly. This level of detail and specific examples make the second answer a more comprehensive and convincing </span>\n",
       "<span style=\"font-weight: bold\">explanation than the first answer.</span>\n",
       "\n",
       "<span style=\"font-weight: bold\">The first answer, on the other hand, only mentions the limitations of LLMs in a general sense and provides a vague </span>\n",
       "<span style=\"font-weight: bold\">reference to retrieval-augmented generation (RAG) models as a potential solution. While this provides some context,</span>\n",
       "<span style=\"font-weight: bold\">it lacks the detailed and concrete examples that make the second answer more persuasive. </span>\n",
       "\n",
       "<span style=\"font-weight: bold\">Therefore, the second answer is considered better than the first and does not introduce any inconsistencies.</span>\n",
       "\n",
       "\n",
       "</pre>\n"
      ],
      "text/plain": [
       "\u001b[1mSynth Evaluation: \u001b[0m\u001b[1m[\u001b[0m\u001b[1;36m2\u001b[0m\u001b[1m]\u001b[0m\u001b[1m Justification\u001b[0m\n",
       "\n",
       "\u001b[1mThe second answer provides more specific examples and evidence to support the limitations of large language models \u001b[0m\n",
       "\u001b[1m(\u001b[0m\u001b[1mLLMs\u001b[0m\u001b[1m)\u001b[0m\u001b[1m in knowledge-intensive tasks, such as access to relevant knowledge and precise manipulation of knowledge. \u001b[0m\n",
       "\u001b[1mFor instance, it mentions the struggles of LMs to understand certain facts like the number of citizens in US cities\u001b[0m\n",
       "\u001b[1mor the current weather in Vancouver. It also provides concrete examples of mathematical reasoning where LMs perform\u001b[0m\n",
       "\u001b[1mpoorly. This level of detail and specific examples make the second answer a more comprehensive and convincing \u001b[0m\n",
       "\u001b[1mexplanation than the first answer.\u001b[0m\n",
       "\n",
       "\u001b[1mThe first answer, on the other hand, only mentions the limitations of LLMs in a general sense and provides a vague \u001b[0m\n",
       "\u001b[1mreference to retrieval-augmented generation \u001b[0m\u001b[1m(\u001b[0m\u001b[1mRAG\u001b[0m\u001b[1m)\u001b[0m\u001b[1m models as a potential solution. While this provides some context,\u001b[0m\n",
       "\u001b[1mit lacks the detailed and concrete examples that make the second answer more persuasive. \u001b[0m\n",
       "\n",
       "\u001b[1mTherefore, the second answer is considered better than the first and does not introduce any inconsistencies.\u001b[0m\n",
       "\n",
       "\n"
      ]
     },
     "metadata": {},
     "output_type": "display_data"
    },
    {
     "data": {
      "text/html": [
       "<pre style=\"white-space:pre;overflow-x:auto;line-height:normal;font-family:Menlo,'DejaVu Sans Mono',consolas,'Courier New',monospace\"><span style=\"font-weight: bold\">Set </span><span style=\"color: #008080; text-decoration-color: #008080; font-weight: bold\">3</span>\n",
       "\n",
       "<span style=\"font-weight: bold\">Question: Question: How do the Transformer's self-attention mechanism and parallelizability contribute to the </span>\n",
       "<span style=\"font-weight: bold\">efficiency of retrieval-augmented generation (RAG) models in knowledge-intensive NLP tasks?</span>\n",
       "\n",
       "\n",
       "</pre>\n"
      ],
      "text/plain": [
       "\u001b[1mSet \u001b[0m\u001b[1;36m3\u001b[0m\n",
       "\n",
       "\u001b[1mQuestion: Question: How do the Transformer's self-attention mechanism and parallelizability contribute to the \u001b[0m\n",
       "\u001b[1mefficiency of retrieval-augmented generation \u001b[0m\u001b[1m(\u001b[0m\u001b[1mRAG\u001b[0m\u001b[1m)\u001b[0m\u001b[1m models in knowledge-intensive NLP tasks?\u001b[0m\n",
       "\n",
       "\n"
      ]
     },
     "metadata": {},
     "output_type": "display_data"
    },
    {
     "data": {
      "text/html": [
       "<pre style=\"white-space:pre;overflow-x:auto;line-height:normal;font-family:Menlo,'DejaVu Sans Mono',consolas,'Courier New',monospace\"><span style=\"color: #76b900; text-decoration-color: #76b900; font-weight: bold\">Synth Answer: Answer: The Transformer's self-attention mechanism, which enables parallelization and reduces the </span>\n",
       "<span style=\"color: #76b900; text-decoration-color: #76b900; font-weight: bold\">computational cost of relating input or output positions, facilitates the development of efficient RAG models that </span>\n",
       "<span style=\"color: #76b900; text-decoration-color: #76b900; font-weight: bold\">can leverage large-scale non-parametric memory, such as a dense vector index of Wikipedia, to access and manipulate</span>\n",
       "<span style=\"color: #76b900; text-decoration-color: #76b900; font-weight: bold\">knowledge effectively in RAG models. This efficiency enables RAG models to excel in knowledge-intensive tasks and </span>\n",
       "<span style=\"color: #76b900; text-decoration-color: #76b900; font-weight: bold\">outperform parametric seq2seq models and task-specific retrieve-and-extract architectures.</span>\n",
       "\n",
       "\n",
       "</pre>\n"
      ],
      "text/plain": [
       "\u001b[1;38;2;118;185;0mSynth Answer: Answer: The Transformer's self-attention mechanism, which enables parallelization and reduces the \u001b[0m\n",
       "\u001b[1;38;2;118;185;0mcomputational cost of relating input or output positions, facilitates the development of efficient RAG models that \u001b[0m\n",
       "\u001b[1;38;2;118;185;0mcan leverage large-scale non-parametric memory, such as a dense vector index of Wikipedia, to access and manipulate\u001b[0m\n",
       "\u001b[1;38;2;118;185;0mknowledge effectively in RAG models. This efficiency enables RAG models to excel in knowledge-intensive tasks and \u001b[0m\n",
       "\u001b[1;38;2;118;185;0moutperform parametric seq2seq models and task-specific retrieve-and-extract architectures.\u001b[0m\n",
       "\n",
       "\n"
      ]
     },
     "metadata": {},
     "output_type": "display_data"
    },
    {
     "data": {
      "text/html": [
       "<pre style=\"white-space:pre;overflow-x:auto;line-height:normal;font-family:Menlo,'DejaVu Sans Mono',consolas,'Courier New',monospace\"><span style=\"color: #76b900; text-decoration-color: #76b900; font-weight: bold\">RAG Answer: Let's dive into the Transformer's self-attention mechanism and how it contributes to the efficiency of </span>\n",
       "<span style=\"color: #76b900; text-decoration-color: #76b900; font-weight: bold\">Retrieval-Augmented Generation (RAG) models in knowledge-intensive NLP tasks.</span>\n",
       "\n",
       "<span style=\"color: #76b900; text-decoration-color: #76b900; font-weight: bold\">The Transformer's self-attention mechanism allows RAG models to focus on the most relevant parts of the input </span>\n",
       "<span style=\"color: #76b900; text-decoration-color: #76b900; font-weight: bold\">sequence x when retrieving text documents z. By weighing the importance of different input tokens, the </span>\n",
       "<span style=\"color: #76b900; text-decoration-color: #76b900; font-weight: bold\">self-attention mechanism enables the model to capture long-range dependencies and contextual relationships between </span>\n",
       "<span style=\"color: #76b900; text-decoration-color: #76b900; font-weight: bold\">tokens (Vaswani et al., </span><span style=\"color: #008080; text-decoration-color: #008080; font-weight: bold\">2017</span><span style=\"color: #76b900; text-decoration-color: #76b900; font-weight: bold\">). In the context of RAG, this means that the model can retrieve the most relevant </span>\n",
       "<span style=\"color: #76b900; text-decoration-color: #76b900; font-weight: bold\">documents for a given input sequence, which in turn enables it to generate more accurate and informative responses.</span>\n",
       "\n",
       "<span style=\"color: #76b900; text-decoration-color: #76b900; font-weight: bold\">As for parallelizability, the Transformer's architecture is inherently designed to be parallelizable. This property</span>\n",
       "<span style=\"color: #76b900; text-decoration-color: #76b900; font-weight: bold\">of the Transformer is crucial for RAG models, as it allows the model to process multiple documents in parallel and </span>\n",
       "<span style=\"color: #76b900; text-decoration-color: #76b900; font-weight: bold\">retrieve the relevant information in a much more efficient manner. By harnessing the power of parallel processing, </span>\n",
       "<span style=\"color: #76b900; text-decoration-color: #76b900; font-weight: bold\">RAG models can handle large amounts of knowledge-intensive data and generate responses in a matter of seconds or </span>\n",
       "<span style=\"color: #76b900; text-decoration-color: #76b900; font-weight: bold\">even milliseconds (Dai et al., </span><span style=\"color: #008080; text-decoration-color: #008080; font-weight: bold\">2019</span><span style=\"color: #76b900; text-decoration-color: #76b900; font-weight: bold\">).</span>\n",
       "\n",
       "<span style=\"color: #76b900; text-decoration-color: #76b900; font-weight: bold\">In the paper, the authors also mention using Dense Passage Retrieval (DPR) as the retriever, which utilized dense </span>\n",
       "<span style=\"color: #76b900; text-decoration-color: #76b900; font-weight: bold\">embeddings and a pairwise similarity function for document retrieval. The paper states </span><span style=\"color: #008000; text-decoration-color: #008000\">\"We combine these components</span>\n",
       "<span style=\"color: #008000; text-decoration-color: #008000\">in a probabilistic model trained end-to-end...\"</span><span style=\"color: #76b900; text-decoration-color: #76b900; font-weight: bold\"> which highlights the importance of the parallelizability aspect of </span>\n",
       "<span style=\"color: #76b900; text-decoration-color: #76b900; font-weight: bold\">the self-attention mechanism in enabling the efficient end-to-end training of the RAG model.</span>\n",
       "\n",
       "<span style=\"color: #76b900; text-decoration-color: #76b900; font-weight: bold\">Overall, the Transformer's self-attention mechanism and parallelizability are key factors that contribute to the </span>\n",
       "<span style=\"color: #76b900; text-decoration-color: #76b900; font-weight: bold\">efficiency of RAG models in knowledge-intensive NLP tasks.</span>\n",
       "\n",
       "<span style=\"color: #76b900; text-decoration-color: #76b900; font-weight: bold\">References:</span>\n",
       "\n",
       "<span style=\"color: #76b900; text-decoration-color: #76b900; font-weight: bold\">Vaswani, A., et al. (</span><span style=\"color: #008080; text-decoration-color: #008080; font-weight: bold\">2017</span><span style=\"color: #76b900; text-decoration-color: #76b900; font-weight: bold\">). Attention is all you need. arXiv preprint arXiv:</span><span style=\"color: #008080; text-decoration-color: #008080; font-weight: bold\">1706.03762</span><span style=\"color: #76b900; text-decoration-color: #76b900; font-weight: bold\">.</span>\n",
       "\n",
       "<span style=\"color: #76b900; text-decoration-color: #76b900; font-weight: bold\">Dai, Zhang, and Yu (</span><span style=\"color: #008080; text-decoration-color: #008080; font-weight: bold\">2019</span><span style=\"color: #76b900; text-decoration-color: #76b900; font-weight: bold\">). Transformer-XH: Enabling Large Minibatch Training of Transformers with High Model </span>\n",
       "<span style=\"color: #76b900; text-decoration-color: #76b900; font-weight: bold\">Variance. In Advances in Neural Information Processing Systems (pp. </span><span style=\"color: #008080; text-decoration-color: #008080; font-weight: bold\">2341</span><span style=\"color: #76b900; text-decoration-color: #76b900; font-weight: bold\">-</span><span style=\"color: #008080; text-decoration-color: #008080; font-weight: bold\">2353</span><span style=\"color: #76b900; text-decoration-color: #76b900; font-weight: bold\">).</span>\n",
       "\n",
       "<span style=\"color: #76b900; text-decoration-color: #76b900; font-weight: bold\">Please let me know if you have any further questions!</span>\n",
       "\n",
       "\n",
       "</pre>\n"
      ],
      "text/plain": [
       "\u001b[1;38;2;118;185;0mRAG Answer: Let's dive into the Transformer's self-attention mechanism and how it contributes to the efficiency of \u001b[0m\n",
       "\u001b[1;38;2;118;185;0mRetrieval-Augmented Generation \u001b[0m\u001b[1;38;2;118;185;0m(\u001b[0m\u001b[1;38;2;118;185;0mRAG\u001b[0m\u001b[1;38;2;118;185;0m)\u001b[0m\u001b[1;38;2;118;185;0m models in knowledge-intensive NLP tasks.\u001b[0m\n",
       "\n",
       "\u001b[1;38;2;118;185;0mThe Transformer's self-attention mechanism allows RAG models to focus on the most relevant parts of the input \u001b[0m\n",
       "\u001b[1;38;2;118;185;0msequence x when retrieving text documents z. By weighing the importance of different input tokens, the \u001b[0m\n",
       "\u001b[1;38;2;118;185;0mself-attention mechanism enables the model to capture long-range dependencies and contextual relationships between \u001b[0m\n",
       "\u001b[1;38;2;118;185;0mtokens \u001b[0m\u001b[1;38;2;118;185;0m(\u001b[0m\u001b[1;38;2;118;185;0mVaswani et al., \u001b[0m\u001b[1;36m2017\u001b[0m\u001b[1;38;2;118;185;0m)\u001b[0m\u001b[1;38;2;118;185;0m. In the context of RAG, this means that the model can retrieve the most relevant \u001b[0m\n",
       "\u001b[1;38;2;118;185;0mdocuments for a given input sequence, which in turn enables it to generate more accurate and informative responses.\u001b[0m\n",
       "\n",
       "\u001b[1;38;2;118;185;0mAs for parallelizability, the Transformer's architecture is inherently designed to be parallelizable. This property\u001b[0m\n",
       "\u001b[1;38;2;118;185;0mof the Transformer is crucial for RAG models, as it allows the model to process multiple documents in parallel and \u001b[0m\n",
       "\u001b[1;38;2;118;185;0mretrieve the relevant information in a much more efficient manner. By harnessing the power of parallel processing, \u001b[0m\n",
       "\u001b[1;38;2;118;185;0mRAG models can handle large amounts of knowledge-intensive data and generate responses in a matter of seconds or \u001b[0m\n",
       "\u001b[1;38;2;118;185;0meven milliseconds \u001b[0m\u001b[1;38;2;118;185;0m(\u001b[0m\u001b[1;38;2;118;185;0mDai et al., \u001b[0m\u001b[1;36m2019\u001b[0m\u001b[1;38;2;118;185;0m)\u001b[0m\u001b[1;38;2;118;185;0m.\u001b[0m\n",
       "\n",
       "\u001b[1;38;2;118;185;0mIn the paper, the authors also mention using Dense Passage Retrieval \u001b[0m\u001b[1;38;2;118;185;0m(\u001b[0m\u001b[1;38;2;118;185;0mDPR\u001b[0m\u001b[1;38;2;118;185;0m)\u001b[0m\u001b[1;38;2;118;185;0m as the retriever, which utilized dense \u001b[0m\n",
       "\u001b[1;38;2;118;185;0membeddings and a pairwise similarity function for document retrieval. The paper states \u001b[0m\u001b[32m\"We combine these components\u001b[0m\n",
       "\u001b[32min a probabilistic model trained end-to-end...\"\u001b[0m\u001b[1;38;2;118;185;0m which highlights the importance of the parallelizability aspect of \u001b[0m\n",
       "\u001b[1;38;2;118;185;0mthe self-attention mechanism in enabling the efficient end-to-end training of the RAG model.\u001b[0m\n",
       "\n",
       "\u001b[1;38;2;118;185;0mOverall, the Transformer's self-attention mechanism and parallelizability are key factors that contribute to the \u001b[0m\n",
       "\u001b[1;38;2;118;185;0mefficiency of RAG models in knowledge-intensive NLP tasks.\u001b[0m\n",
       "\n",
       "\u001b[1;38;2;118;185;0mReferences:\u001b[0m\n",
       "\n",
       "\u001b[1;38;2;118;185;0mVaswani, A., et al. \u001b[0m\u001b[1;38;2;118;185;0m(\u001b[0m\u001b[1;36m2017\u001b[0m\u001b[1;38;2;118;185;0m)\u001b[0m\u001b[1;38;2;118;185;0m. Attention is all you need. arXiv preprint arXiv:\u001b[0m\u001b[1;36m1706.03762\u001b[0m\u001b[1;38;2;118;185;0m.\u001b[0m\n",
       "\n",
       "\u001b[1;38;2;118;185;0mDai, Zhang, and Yu \u001b[0m\u001b[1;38;2;118;185;0m(\u001b[0m\u001b[1;36m2019\u001b[0m\u001b[1;38;2;118;185;0m)\u001b[0m\u001b[1;38;2;118;185;0m. Transformer-XH: Enabling Large Minibatch Training of Transformers with High Model \u001b[0m\n",
       "\u001b[1;38;2;118;185;0mVariance. In Advances in Neural Information Processing Systems \u001b[0m\u001b[1;38;2;118;185;0m(\u001b[0m\u001b[1;38;2;118;185;0mpp. \u001b[0m\u001b[1;36m2341\u001b[0m\u001b[1;38;2;118;185;0m-\u001b[0m\u001b[1;36m2353\u001b[0m\u001b[1;38;2;118;185;0m)\u001b[0m\u001b[1;38;2;118;185;0m.\u001b[0m\n",
       "\n",
       "\u001b[1;38;2;118;185;0mPlease let me know if you have any further questions!\u001b[0m\n",
       "\n",
       "\n"
      ]
     },
     "metadata": {},
     "output_type": "display_data"
    },
    {
     "data": {
      "text/html": [
       "<pre style=\"white-space:pre;overflow-x:auto;line-height:normal;font-family:Menlo,'DejaVu Sans Mono',consolas,'Courier New',monospace\"><span style=\"font-weight: bold\">Synth Evaluation: [</span><span style=\"color: #008080; text-decoration-color: #008080; font-weight: bold\">2</span><span style=\"font-weight: bold\">] Justification</span>\n",
       "\n",
       "<span style=\"font-weight: bold\">The second answer provides more specific examples and technical details about the Transformer's self-attention </span>\n",
       "<span style=\"font-weight: bold\">mechanism and parallelizability, making it a more comprehensive explanation than the first answer. Additionally, </span>\n",
       "<span style=\"font-weight: bold\">the second answer includes references to relevant papers, which adds credibility to the argument. It also </span>\n",
       "<span style=\"font-weight: bold\">highlights the importance of the self-attention mechanism in enabling efficient end-to-end training of the RAG </span>\n",
       "<span style=\"font-weight: bold\">model. The answer does not introduce any inconsistencies with the first answer and provides additional insights, </span>\n",
       "<span style=\"font-weight: bold\">making it a better answer.</span>\n",
       "\n",
       "\n",
       "</pre>\n"
      ],
      "text/plain": [
       "\u001b[1mSynth Evaluation: \u001b[0m\u001b[1m[\u001b[0m\u001b[1;36m2\u001b[0m\u001b[1m]\u001b[0m\u001b[1m Justification\u001b[0m\n",
       "\n",
       "\u001b[1mThe second answer provides more specific examples and technical details about the Transformer's self-attention \u001b[0m\n",
       "\u001b[1mmechanism and parallelizability, making it a more comprehensive explanation than the first answer. Additionally, \u001b[0m\n",
       "\u001b[1mthe second answer includes references to relevant papers, which adds credibility to the argument. It also \u001b[0m\n",
       "\u001b[1mhighlights the importance of the self-attention mechanism in enabling efficient end-to-end training of the RAG \u001b[0m\n",
       "\u001b[1mmodel. The answer does not introduce any inconsistencies with the first answer and provides additional insights, \u001b[0m\n",
       "\u001b[1mmaking it a better answer.\u001b[0m\n",
       "\n",
       "\n"
      ]
     },
     "metadata": {},
     "output_type": "display_data"
    }
   ],
   "source": [
    "## TODO: Adapt this prompt for whichever LLM you're actually interested in using. \n",
    "## If it's llama, maybe system message would be good?\n",
    "eval_prompt = ChatPromptTemplate.from_template(\"\"\"INSTRUCTION: \n",
    "Evaluate the following Question-Answer pair for human preference and consistency.\n",
    "Assume the first answer is a ground truth answer and has to be correct.\n",
    "Assume the second answer may or may not be true.\n",
    "[1] The second answer lies, does not answer the question, or is inferior to the first answer.\n",
    "[2] The second answer is better than the first and does not introduce any inconsistencies.\n",
    "\n",
    "Output Format:\n",
    "[Score(1/2)] Justification\n",
    "\n",
    "Example:\n",
    "[1] Justification\n",
    "\n",
    "{qa_trio}\n",
    "\n",
    "EVALUATION: \n",
    "\"\"\")\n",
    "\n",
    "pref_score = []\n",
    "\n",
    "trio_gen = zip(synth_questions, synth_answers, rag_answers)\n",
    "for i, (q, a_synth, a_rag) in enumerate(trio_gen):\n",
    "    pprint2(f\"Set {i+1}\\n\\nQuestion: {q}\\n\\n\")\n",
    "\n",
    "    qa_trio = f\"Question: {q}\\n\\nAnswer 1 (Ground Truth): {a_synth}\\n\\n Answer 2 (New Answer): {a_rag}\"\n",
    "    pref_score += [(eval_prompt | llm).invoke({'qa_trio': qa_trio})]\n",
    "    pprint(f\"Synth Answer: {a_synth}\\n\\n\")\n",
    "    pprint(f\"RAG Answer: {a_rag}\\n\\n\")\n",
    "    pprint2(f\"Synth Evaluation: {pref_score[-1]}\\n\\n\")"
   ]
  },
  {
   "cell_type": "markdown",
   "id": "e6595662-9f49-44eb-9868-2a3fdb1fb60f",
   "metadata": {},
   "source": [
    "<br>\n",
    "\n",
    "**Congratulations! We now have an LLM system that reasons about our pipeline and tries to evaluate it!** Now that we have some judge results, we can simply aggregate the results and see how often our formulation was according to an LLM:"
   ]
  },
  {
   "cell_type": "code",
   "execution_count": 7,
   "id": "3L_q6fMH3i6_",
   "metadata": {
    "id": "3L_q6fMH3i6_"
   },
   "outputs": [
    {
     "name": "stdout",
     "output_type": "stream",
     "text": [
      "Preference Score: 0.6666666666666666\n"
     ]
    }
   ],
   "source": [
    "pref_score = sum((\"[2]\" in score) for score in pref_score) / len(pref_score)\n",
    "print(f\"Preference Score: {pref_score}\")"
   ]
  },
  {
   "cell_type": "markdown",
   "id": "cf80bf04-118d-44a2-a740-361a756a1d5f",
   "metadata": {
    "id": "cf80bf04-118d-44a2-a740-361a756a1d5f"
   },
   "source": [
    "----\n",
    "\n",
    "<br>\n",
    "\n",
    "## **Part 4:** Advanced Formulations\n",
    "\n",
    "The exercise above was meant to prepare you for the final assessment of the course and showcased a simple but effective evaluator chain. The objective and implementation details were provided for you, and the logic for using it probably makes sense now that you've seen it in action. \n",
    "\n",
    "With that being said, this metric was merely a product of us specifying:\n",
    "- **What kind of behavior is important for our pipeline to have?**\n",
    "- **What do we need to do in order to exhibit and evaluate this behavior?**\n",
    "\n",
    "From these two questions, we could have come up with plenty of other evaluation metrics that could have assessed different attributes, incorporated different evaluator chain techniques, and even required different pipeline organization strategies. Though far from an exhaustive list, some common formulations you will likely come across may include:\n",
    "\n",
    "- **Style Evaluation:** Some evaluation formulations can be as simple as \"let me ask some questions and see if the output feels desirable.\" This might be used to see whether a chatbot \"acts like it's supposed to\" based on a description provided to a judge LLM. We're using quotations since this kind of assessment can reasonably be achieved with nothing but prompt engineering and a while loop.\n",
    "\n",
    "- **Ground-Truth Evaluation:** In our chain, we used synthetic generation to create some random questions and answers using a sampling strategy, but in reality you may actually have some representative questions and answers that you need your chatbot to consistently get right! In this case, a modification of the exercise chain above should be implemented and closely monitored as you develop your pipelines.\n",
    "\n",
    "- **Retrieval/Augmentation Evaluation:** This course made many assumptions about what kinds of preprocessing and prompting steps would be good for your pipelines, and much of this was determined by experimentation. Factors such as document preprocessing, chunking strategies, model selection, and prompt specification all played important roles, so creating metrics to validate these decisions may be of interest. This kind of metric might require your pipeline to output your context chunks or may even rely solely on embedding similarity comparisons, so keep this in mind when trying to implement a chain that works with multiple evaluation strategies. Consider the [**RagasEvaluatorChain**](https://docs.ragas.io/en/stable/howtos/integrations/langchain.html) abstraction as a decent starting point for making an custom generalizable evaluation routine. \n",
    "\n",
    "- **Trajectory Evaluation:** Using more advanced agent formulations, you can implement multiple-query strategies that assume the presence of conversational memory. With this, you can implement an evaluation agent which can:\n",
    "    - Ask a series of questions in order to evaluate how well the agent is able to adapt and cater to the scenario. This kind of system generally considers a series of correspondence and aims to tease out and evaluate a \"trajectory\" of how the agent navigated the conversation. The [**LangChain Trajectory Evaluators documentation**](https://python.langchain.com/v0.1/docs/guides/productionization/evaluation/trajectory/) is a good starting point.\n",
    "    - Alternatively, you could also implement an evaluation agent that tries to achieve objectives by interacting with the chatbot. Such an agent can output whether they were able to navigate to their solution in a natural manner, and can even be used to generate a report about the percieved performance. The [**LangChain Agents documentation**](https://python.langchain.com/v0.1/docs/modules/agents/) is a good starting point!\n",
    "\n",
    "<br>\n",
    "\n",
    "At the end of the day, just make sure to use the tools you have at your disposal appropriately. By this point in the course, you should already be well-acquainted with the LLM core value propositions: **They're powerful, scalable, predictable, controllable, and orchestratable... but will act unpredictably when you just expect them to work by default.** Assess your needs, formulate and validate your pipelines, give enough information, and add as much control as you can to make your system work consistently, efficiently, and effectively."
   ]
  },
  {
   "cell_type": "markdown",
   "id": "61faee2c-e534-4c89-91ae-45c37835dba5",
   "metadata": {},
   "source": [
    "----\n",
    "\n",
    "<br>\n",
    "\n",
    "## **Part 5: [Assessment]** Evaluating For Credit\n",
    "\n",
    "Welcome to the last exercise of the course! Hopefully you've enjoyed the material and are ready to actually get credit for these notebooks! For this part:\n",
    "\n",
    "- **Make sure you're in the course environment**\n",
    "- **Make sure `docstore_index/` has been uploaded to the course environment...**\n",
    "    - **...and contains [at least one Arxiv paper](https://arxiv.org/search/advanced) which has been updated recently.**\n",
    "- **Make sure you don't have some old session of [`09_langserve.ipynb`](09_langserve.ipynb) already occupying the port. Your assessment requires you to implement the new `/retriever` and `/generator` endpoints!!**\n",
    "\n",
    "**Objective:** On launch, [**`frontend/frontend_block.py`**](frontend/frontend_block.py) had several lines of code which trigger the course pass condition. Your objective is to invoke that series of commands by using your pipeline to pass the **Evaluation** check! Recall [`09_langserve.ipynb`](09_langserve.ipynb) and use it as a starting example! As a recommendation, consider duplicating it so that you can keep the original as an authoritative reference. \n",
    "\n",
    "**Once Finished:** While your course environment is still open, please navigate back to your course environment launcher area and click the **\"Assess Task\"** button! After that, you're all done!"
   ]
  },
  {
   "cell_type": "code",
   "execution_count": 8,
   "id": "48e300ed-951c-4006-ac54-cbbd41251707",
   "metadata": {},
   "outputs": [
    {
     "data": {
      "application/javascript": [
       "var url = 'http://'+window.location.host+':8090';\n",
       "element.innerHTML = '<a style=\"color:green;\" target=\"_blank\" href='+url+'><h1>< Link To Gradio Frontend ></h1></a>';\n"
      ],
      "text/plain": [
       "<IPython.core.display.Javascript object>"
      ]
     },
     "metadata": {},
     "output_type": "display_data"
    }
   ],
   "source": [
    "%%js\n",
    "var url = 'http://'+window.location.host+':8090';\n",
    "element.innerHTML = '<a style=\"color:green;\" target=\"_blank\" href='+url+'><h1>< Link To Gradio Frontend ></h1></a>';"
   ]
  },
  {
   "cell_type": "markdown",
   "id": "5aff364c-519e-435e-bf1d-ce68a12d13e0",
   "metadata": {
    "id": "5aff364c-519e-435e-bf1d-ce68a12d13e0"
   },
   "source": [
    "----\n",
    "\n",
    "<br>\n",
    "\n",
    "## <font color=\"#76b900\">**Congratulations On Completing The Course**</font>\n",
    "\n",
    "Hopefully this course was not only exciting and challenging, but also adequately prepared you for work on the cutting edge of LLM and RAG system development! Going forward, you should have the skills necessary to tackle industry-level challenges and explore RAG deployment with open-source models and frameworks.\n",
    "\n",
    "**Some NVIDIA-specific releases related to this that you may find interesting include:**\n",
    "- [**NVIDIA NIM**](https://www.nvidia.com/en-us/ai/), which offers microservice spinup routines that can be deployed on local compute.\n",
    "- [**TensorRT-LLM**](https://github.com/NVIDIA/TensorRT-LLM) is the current recommended framework for deploying GPU-accelerated LLM model engines in production settings.\n",
    "- [**NVIDIA's Generative AI Examples Repo**](https://github.com/NVIDIA/GenerativeAIExamples), which includes the current canonical microservice example application and will be updated with new resources as new production workflows get released.\n",
    "- [**The Knowledge-Based Chatbot Technical Brief**](https://resources.nvidia.com/en-us-generative-ai-chatbot-workflow/knowledge-base-chatbot-technical-brief) which discusses additional publicly-accessible details on productionalizing RAG systems.\n",
    "\n",
    "**Additionally, some key topics you may be interested in delving more into include:**\n",
    "- [**LlamaIndex**](https://www.llamaindex.ai/), which has strong components that can augment and occasionally improve upon the LangChain RAG features.\n",
    "- [**LangSmith**](https://docs.smith.langchain.com/), an upcoming agent productionalization service offered by LangChain.\n",
    "- [**Gradio**](https://www.gradio.app/), though touched on in the course, has many more interface options which will be worth investigating. For inspiration, consider checking out [**HuggingFace Spaces**](https://huggingface.co/spaces) for examples.\n",
    "- [**LangGraph**](https://python.langchain.com/docs/langgraph/) is a framework for graph-based LLM orchestration, and is a natural next step forward for those interested in [multi-agent workflows](https://blog.langchain.dev/langgraph-multi-agent-workflows/).\n",
    "- [**DSPy**](https://github.com/stanfordnlp/dspy), a flow engineering framework that allows you to optimize LLM orchestration pipelines based on empirical performance results."
   ]
  },
  {
   "cell_type": "markdown",
   "id": "035451c9-ed12-4bc3-b468-04db5c399e03",
   "metadata": {
    "id": "035451c9-ed12-4bc3-b468-04db5c399e03"
   },
   "source": [
    "<center><a href=\"https://www.nvidia.com/en-us/training/\"><img src=\"https://dli-lms.s3.amazonaws.com/assets/general/DLI_Header_White.png\" width=\"400\" height=\"186\" /></a></center>"
   ]
  }
 ],
 "metadata": {
  "colab": {
   "provenance": []
  },
  "kernelspec": {
   "display_name": "Python 3 (ipykernel)",
   "language": "python",
   "name": "python3"
  },
  "language_info": {
   "codemirror_mode": {
    "name": "ipython",
    "version": 3
   },
   "file_extension": ".py",
   "mimetype": "text/x-python",
   "name": "python",
   "nbconvert_exporter": "python",
   "pygments_lexer": "ipython3",
   "version": "3.11.11"
  }
 },
 "nbformat": 4,
 "nbformat_minor": 5
}
